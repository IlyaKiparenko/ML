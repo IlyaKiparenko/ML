{
 "cells": [
  {
   "cell_type": "markdown",
   "metadata": {},
   "source": [
    "# Лабораторная работа по анализу данных 1\n",
    "\n",
    "Выполнил **Кипаренко Илья**\n",
    "\n",
    "\n"
   ]
  },
  {
   "cell_type": "code",
   "execution_count": 1,
   "metadata": {},
   "outputs": [],
   "source": [
    "import numpy as np\n",
    "import matplotlib.pyplot as plt\n",
    "import pandas as pd\n",
    "%matplotlib inline"
   ]
  },
  {
   "cell_type": "code",
   "execution_count": 2,
   "metadata": {},
   "outputs": [],
   "source": [
    "#url = 'https://archive.ics.uci.edu/ml/machine-learning-databases/00222/bank-additional.zip'\n",
    "data = pd.read_csv('bank-additional-full.csv', sep = ';', engine = 'python')"
   ]
  },
  {
   "cell_type": "code",
   "execution_count": 3,
   "metadata": {
    "scrolled": true
   },
   "outputs": [
    {
     "data": {
      "text/html": [
       "<div>\n",
       "<style scoped>\n",
       "    .dataframe tbody tr th:only-of-type {\n",
       "        vertical-align: middle;\n",
       "    }\n",
       "\n",
       "    .dataframe tbody tr th {\n",
       "        vertical-align: top;\n",
       "    }\n",
       "\n",
       "    .dataframe thead th {\n",
       "        text-align: right;\n",
       "    }\n",
       "</style>\n",
       "<table border=\"1\" class=\"dataframe\">\n",
       "  <thead>\n",
       "    <tr style=\"text-align: right;\">\n",
       "      <th></th>\n",
       "      <th>age</th>\n",
       "      <th>job</th>\n",
       "      <th>marital</th>\n",
       "      <th>education</th>\n",
       "      <th>default</th>\n",
       "      <th>housing</th>\n",
       "      <th>loan</th>\n",
       "      <th>contact</th>\n",
       "      <th>month</th>\n",
       "      <th>day_of_week</th>\n",
       "      <th>...</th>\n",
       "      <th>campaign</th>\n",
       "      <th>pdays</th>\n",
       "      <th>previous</th>\n",
       "      <th>poutcome</th>\n",
       "      <th>emp.var.rate</th>\n",
       "      <th>cons.price.idx</th>\n",
       "      <th>cons.conf.idx</th>\n",
       "      <th>euribor3m</th>\n",
       "      <th>nr.employed</th>\n",
       "      <th>y</th>\n",
       "    </tr>\n",
       "  </thead>\n",
       "  <tbody>\n",
       "    <tr>\n",
       "      <th>0</th>\n",
       "      <td>56</td>\n",
       "      <td>housemaid</td>\n",
       "      <td>married</td>\n",
       "      <td>basic.4y</td>\n",
       "      <td>no</td>\n",
       "      <td>no</td>\n",
       "      <td>no</td>\n",
       "      <td>telephone</td>\n",
       "      <td>may</td>\n",
       "      <td>mon</td>\n",
       "      <td>...</td>\n",
       "      <td>1</td>\n",
       "      <td>999</td>\n",
       "      <td>0</td>\n",
       "      <td>nonexistent</td>\n",
       "      <td>1.1</td>\n",
       "      <td>93.994</td>\n",
       "      <td>-36.4</td>\n",
       "      <td>4.857</td>\n",
       "      <td>5191.0</td>\n",
       "      <td>no</td>\n",
       "    </tr>\n",
       "    <tr>\n",
       "      <th>1</th>\n",
       "      <td>57</td>\n",
       "      <td>services</td>\n",
       "      <td>married</td>\n",
       "      <td>high.school</td>\n",
       "      <td>unknown</td>\n",
       "      <td>no</td>\n",
       "      <td>no</td>\n",
       "      <td>telephone</td>\n",
       "      <td>may</td>\n",
       "      <td>mon</td>\n",
       "      <td>...</td>\n",
       "      <td>1</td>\n",
       "      <td>999</td>\n",
       "      <td>0</td>\n",
       "      <td>nonexistent</td>\n",
       "      <td>1.1</td>\n",
       "      <td>93.994</td>\n",
       "      <td>-36.4</td>\n",
       "      <td>4.857</td>\n",
       "      <td>5191.0</td>\n",
       "      <td>no</td>\n",
       "    </tr>\n",
       "    <tr>\n",
       "      <th>2</th>\n",
       "      <td>37</td>\n",
       "      <td>services</td>\n",
       "      <td>married</td>\n",
       "      <td>high.school</td>\n",
       "      <td>no</td>\n",
       "      <td>yes</td>\n",
       "      <td>no</td>\n",
       "      <td>telephone</td>\n",
       "      <td>may</td>\n",
       "      <td>mon</td>\n",
       "      <td>...</td>\n",
       "      <td>1</td>\n",
       "      <td>999</td>\n",
       "      <td>0</td>\n",
       "      <td>nonexistent</td>\n",
       "      <td>1.1</td>\n",
       "      <td>93.994</td>\n",
       "      <td>-36.4</td>\n",
       "      <td>4.857</td>\n",
       "      <td>5191.0</td>\n",
       "      <td>no</td>\n",
       "    </tr>\n",
       "    <tr>\n",
       "      <th>3</th>\n",
       "      <td>40</td>\n",
       "      <td>admin.</td>\n",
       "      <td>married</td>\n",
       "      <td>basic.6y</td>\n",
       "      <td>no</td>\n",
       "      <td>no</td>\n",
       "      <td>no</td>\n",
       "      <td>telephone</td>\n",
       "      <td>may</td>\n",
       "      <td>mon</td>\n",
       "      <td>...</td>\n",
       "      <td>1</td>\n",
       "      <td>999</td>\n",
       "      <td>0</td>\n",
       "      <td>nonexistent</td>\n",
       "      <td>1.1</td>\n",
       "      <td>93.994</td>\n",
       "      <td>-36.4</td>\n",
       "      <td>4.857</td>\n",
       "      <td>5191.0</td>\n",
       "      <td>no</td>\n",
       "    </tr>\n",
       "    <tr>\n",
       "      <th>4</th>\n",
       "      <td>56</td>\n",
       "      <td>services</td>\n",
       "      <td>married</td>\n",
       "      <td>high.school</td>\n",
       "      <td>no</td>\n",
       "      <td>no</td>\n",
       "      <td>yes</td>\n",
       "      <td>telephone</td>\n",
       "      <td>may</td>\n",
       "      <td>mon</td>\n",
       "      <td>...</td>\n",
       "      <td>1</td>\n",
       "      <td>999</td>\n",
       "      <td>0</td>\n",
       "      <td>nonexistent</td>\n",
       "      <td>1.1</td>\n",
       "      <td>93.994</td>\n",
       "      <td>-36.4</td>\n",
       "      <td>4.857</td>\n",
       "      <td>5191.0</td>\n",
       "      <td>no</td>\n",
       "    </tr>\n",
       "  </tbody>\n",
       "</table>\n",
       "<p>5 rows × 21 columns</p>\n",
       "</div>"
      ],
      "text/plain": [
       "   age        job  marital    education  default housing loan    contact  \\\n",
       "0   56  housemaid  married     basic.4y       no      no   no  telephone   \n",
       "1   57   services  married  high.school  unknown      no   no  telephone   \n",
       "2   37   services  married  high.school       no     yes   no  telephone   \n",
       "3   40     admin.  married     basic.6y       no      no   no  telephone   \n",
       "4   56   services  married  high.school       no      no  yes  telephone   \n",
       "\n",
       "  month day_of_week ...  campaign  pdays  previous     poutcome emp.var.rate  \\\n",
       "0   may         mon ...         1    999         0  nonexistent          1.1   \n",
       "1   may         mon ...         1    999         0  nonexistent          1.1   \n",
       "2   may         mon ...         1    999         0  nonexistent          1.1   \n",
       "3   may         mon ...         1    999         0  nonexistent          1.1   \n",
       "4   may         mon ...         1    999         0  nonexistent          1.1   \n",
       "\n",
       "   cons.price.idx  cons.conf.idx  euribor3m  nr.employed   y  \n",
       "0          93.994          -36.4      4.857       5191.0  no  \n",
       "1          93.994          -36.4      4.857       5191.0  no  \n",
       "2          93.994          -36.4      4.857       5191.0  no  \n",
       "3          93.994          -36.4      4.857       5191.0  no  \n",
       "4          93.994          -36.4      4.857       5191.0  no  \n",
       "\n",
       "[5 rows x 21 columns]"
      ]
     },
     "execution_count": 3,
     "metadata": {},
     "output_type": "execute_result"
    }
   ],
   "source": [
    "data.head()"
   ]
  },
  {
   "cell_type": "markdown",
   "metadata": {},
   "source": [
    "- `age` (numeric)\n",
    "- `job` : type of job (categorical: 'admin.','blue-collar','entrepreneur','housemaid','management','retired','self-employed','services','student','technician','unemployed','unknown')\n",
    "- `marital` : marital status (categorical: 'divorced','married','single','unknown'; note: 'divorced' means divorced or widowed)\n",
    "- `education` (categorical: 'basic.4y','basic.6y','basic.9y','high.school','illiterate','professional.course','university.degree','unknown')\n",
    "- `default`: has credit in default? (categorical: 'no','yes','unknown')\n",
    "- `housing`: has housing loan? (categorical: 'no','yes','unknown')\n",
    "- `loan`: has personal loan? (categorical: 'no','yes','unknown')\n",
    "- `contact`: contact communication type (categorical: 'cellular','telephone') \n",
    "- `month`: last contact month of year (categorical: 'jan', 'feb', 'mar', ..., 'nov', 'dec')\n",
    "- `day_of_week`: last contact day of the week (categorical: 'mon','tue','wed','thu','fri')\n",
    "- `duration`: last contact duration, in seconds (numeric). Important note: this attribute highly affects the output target (e.g., if duration=0 then y='no'). Yet, the duration is not known before a call is performed. Also, after the end of the call y is obviously known. Thus, this input should only be included for benchmark purposes and should be discarded if the intention is to have a realistic predictive model.\n",
    "- `campaign`: number of contacts performed during this campaign and for this client (numeric, includes last contact)\n",
    "- `pdays`: number of days that passed by after the client was last contacted from a previous campaign (numeric; 999 means client was not previously contacted)\n",
    "- `previous`: number of contacts performed before this campaign and for this client (numeric)\n",
    "- `poutcome`: outcome of the previous marketing campaign (categorical: 'failure','nonexistent','success')\n",
    "- `emp.var.rate`: employment variation rate - quarterly indicator (numeric)\n",
    "- `cons.price.idx`: consumer price index - monthly indicator (numeric) \n",
    "- `cons.conf.idx`: consumer confidence index - monthly indicator (numeric) \n",
    "- `euribor3m`: euribor 3 month rate - daily indicator (numeric)\n",
    "- `nr.employed`: number of employees - quarterly indicator (numeric)\n",
    "- `y` - has the client subscribed a term deposit? (binary: 'yes','no')"
   ]
  },
  {
   "cell_type": "code",
   "execution_count": 4,
   "metadata": {},
   "outputs": [
    {
     "name": "stdout",
     "output_type": "stream",
     "text": [
      "(41188, 21)\n",
      "Index(['age', 'job', 'marital', 'education', 'default', 'housing', 'loan',\n",
      "       'contact', 'month', 'day_of_week', 'duration', 'campaign', 'pdays',\n",
      "       'previous', 'poutcome', 'emp.var.rate', 'cons.price.idx',\n",
      "       'cons.conf.idx', 'euribor3m', 'nr.employed', 'y'],\n",
      "      dtype='object')\n",
      "['int64', 'object', 'object', 'object', 'object', 'object', 'object', 'object', 'object', 'object', 'int64', 'int64', 'int64', 'int64', 'object', 'float64', 'float64', 'float64', 'float64', 'float64', 'object']\n"
     ]
    }
   ],
   "source": [
    "print(data.shape)\n",
    "print(data.columns)\n",
    "print([data[c].dtype.name for c in data.columns])"
   ]
  },
  {
   "cell_type": "code",
   "execution_count": 5,
   "metadata": {},
   "outputs": [
    {
     "data": {
      "text/html": [
       "<div>\n",
       "<style scoped>\n",
       "    .dataframe tbody tr th:only-of-type {\n",
       "        vertical-align: middle;\n",
       "    }\n",
       "\n",
       "    .dataframe tbody tr th {\n",
       "        vertical-align: top;\n",
       "    }\n",
       "\n",
       "    .dataframe thead th {\n",
       "        text-align: right;\n",
       "    }\n",
       "</style>\n",
       "<table border=\"1\" class=\"dataframe\">\n",
       "  <thead>\n",
       "    <tr style=\"text-align: right;\">\n",
       "      <th></th>\n",
       "      <th>age</th>\n",
       "      <th>duration</th>\n",
       "      <th>campaign</th>\n",
       "      <th>pdays</th>\n",
       "      <th>previous</th>\n",
       "      <th>emp.var.rate</th>\n",
       "      <th>cons.price.idx</th>\n",
       "      <th>cons.conf.idx</th>\n",
       "      <th>euribor3m</th>\n",
       "      <th>nr.employed</th>\n",
       "    </tr>\n",
       "  </thead>\n",
       "  <tbody>\n",
       "    <tr>\n",
       "      <th>count</th>\n",
       "      <td>41188.00000</td>\n",
       "      <td>41188.000000</td>\n",
       "      <td>41188.000000</td>\n",
       "      <td>41188.000000</td>\n",
       "      <td>41188.000000</td>\n",
       "      <td>41188.000000</td>\n",
       "      <td>41188.000000</td>\n",
       "      <td>41188.000000</td>\n",
       "      <td>41188.000000</td>\n",
       "      <td>41188.000000</td>\n",
       "    </tr>\n",
       "    <tr>\n",
       "      <th>mean</th>\n",
       "      <td>40.02406</td>\n",
       "      <td>258.285010</td>\n",
       "      <td>2.567593</td>\n",
       "      <td>962.475454</td>\n",
       "      <td>0.172963</td>\n",
       "      <td>0.081886</td>\n",
       "      <td>93.575664</td>\n",
       "      <td>-40.502600</td>\n",
       "      <td>3.621291</td>\n",
       "      <td>5167.035911</td>\n",
       "    </tr>\n",
       "    <tr>\n",
       "      <th>std</th>\n",
       "      <td>10.42125</td>\n",
       "      <td>259.279249</td>\n",
       "      <td>2.770014</td>\n",
       "      <td>186.910907</td>\n",
       "      <td>0.494901</td>\n",
       "      <td>1.570960</td>\n",
       "      <td>0.578840</td>\n",
       "      <td>4.628198</td>\n",
       "      <td>1.734447</td>\n",
       "      <td>72.251528</td>\n",
       "    </tr>\n",
       "    <tr>\n",
       "      <th>min</th>\n",
       "      <td>17.00000</td>\n",
       "      <td>0.000000</td>\n",
       "      <td>1.000000</td>\n",
       "      <td>0.000000</td>\n",
       "      <td>0.000000</td>\n",
       "      <td>-3.400000</td>\n",
       "      <td>92.201000</td>\n",
       "      <td>-50.800000</td>\n",
       "      <td>0.634000</td>\n",
       "      <td>4963.600000</td>\n",
       "    </tr>\n",
       "    <tr>\n",
       "      <th>25%</th>\n",
       "      <td>32.00000</td>\n",
       "      <td>102.000000</td>\n",
       "      <td>1.000000</td>\n",
       "      <td>999.000000</td>\n",
       "      <td>0.000000</td>\n",
       "      <td>-1.800000</td>\n",
       "      <td>93.075000</td>\n",
       "      <td>-42.700000</td>\n",
       "      <td>1.344000</td>\n",
       "      <td>5099.100000</td>\n",
       "    </tr>\n",
       "    <tr>\n",
       "      <th>50%</th>\n",
       "      <td>38.00000</td>\n",
       "      <td>180.000000</td>\n",
       "      <td>2.000000</td>\n",
       "      <td>999.000000</td>\n",
       "      <td>0.000000</td>\n",
       "      <td>1.100000</td>\n",
       "      <td>93.749000</td>\n",
       "      <td>-41.800000</td>\n",
       "      <td>4.857000</td>\n",
       "      <td>5191.000000</td>\n",
       "    </tr>\n",
       "    <tr>\n",
       "      <th>75%</th>\n",
       "      <td>47.00000</td>\n",
       "      <td>319.000000</td>\n",
       "      <td>3.000000</td>\n",
       "      <td>999.000000</td>\n",
       "      <td>0.000000</td>\n",
       "      <td>1.400000</td>\n",
       "      <td>93.994000</td>\n",
       "      <td>-36.400000</td>\n",
       "      <td>4.961000</td>\n",
       "      <td>5228.100000</td>\n",
       "    </tr>\n",
       "    <tr>\n",
       "      <th>max</th>\n",
       "      <td>98.00000</td>\n",
       "      <td>4918.000000</td>\n",
       "      <td>56.000000</td>\n",
       "      <td>999.000000</td>\n",
       "      <td>7.000000</td>\n",
       "      <td>1.400000</td>\n",
       "      <td>94.767000</td>\n",
       "      <td>-26.900000</td>\n",
       "      <td>5.045000</td>\n",
       "      <td>5228.100000</td>\n",
       "    </tr>\n",
       "  </tbody>\n",
       "</table>\n",
       "</div>"
      ],
      "text/plain": [
       "               age      duration      campaign         pdays      previous  \\\n",
       "count  41188.00000  41188.000000  41188.000000  41188.000000  41188.000000   \n",
       "mean      40.02406    258.285010      2.567593    962.475454      0.172963   \n",
       "std       10.42125    259.279249      2.770014    186.910907      0.494901   \n",
       "min       17.00000      0.000000      1.000000      0.000000      0.000000   \n",
       "25%       32.00000    102.000000      1.000000    999.000000      0.000000   \n",
       "50%       38.00000    180.000000      2.000000    999.000000      0.000000   \n",
       "75%       47.00000    319.000000      3.000000    999.000000      0.000000   \n",
       "max       98.00000   4918.000000     56.000000    999.000000      7.000000   \n",
       "\n",
       "       emp.var.rate  cons.price.idx  cons.conf.idx     euribor3m   nr.employed  \n",
       "count  41188.000000    41188.000000   41188.000000  41188.000000  41188.000000  \n",
       "mean       0.081886       93.575664     -40.502600      3.621291   5167.035911  \n",
       "std        1.570960        0.578840       4.628198      1.734447     72.251528  \n",
       "min       -3.400000       92.201000     -50.800000      0.634000   4963.600000  \n",
       "25%       -1.800000       93.075000     -42.700000      1.344000   5099.100000  \n",
       "50%        1.100000       93.749000     -41.800000      4.857000   5191.000000  \n",
       "75%        1.400000       93.994000     -36.400000      4.961000   5228.100000  \n",
       "max        1.400000       94.767000     -26.900000      5.045000   5228.100000  "
      ]
     },
     "execution_count": 5,
     "metadata": {},
     "output_type": "execute_result"
    }
   ],
   "source": [
    "data.describe()"
   ]
  },
  {
   "cell_type": "code",
   "execution_count": 6,
   "metadata": {},
   "outputs": [
    {
     "data": {
      "text/html": [
       "<div>\n",
       "<style scoped>\n",
       "    .dataframe tbody tr th:only-of-type {\n",
       "        vertical-align: middle;\n",
       "    }\n",
       "\n",
       "    .dataframe tbody tr th {\n",
       "        vertical-align: top;\n",
       "    }\n",
       "\n",
       "    .dataframe thead th {\n",
       "        text-align: right;\n",
       "    }\n",
       "</style>\n",
       "<table border=\"1\" class=\"dataframe\">\n",
       "  <thead>\n",
       "    <tr style=\"text-align: right;\">\n",
       "      <th></th>\n",
       "      <th>age</th>\n",
       "      <th>duration</th>\n",
       "      <th>campaign</th>\n",
       "      <th>pdays</th>\n",
       "      <th>previous</th>\n",
       "      <th>emp.var.rate</th>\n",
       "      <th>cons.price.idx</th>\n",
       "      <th>cons.conf.idx</th>\n",
       "      <th>euribor3m</th>\n",
       "      <th>nr.employed</th>\n",
       "    </tr>\n",
       "  </thead>\n",
       "  <tbody>\n",
       "    <tr>\n",
       "      <th>age</th>\n",
       "      <td>1.000000</td>\n",
       "      <td>-0.000866</td>\n",
       "      <td>0.004594</td>\n",
       "      <td>-0.034369</td>\n",
       "      <td>0.024365</td>\n",
       "      <td>-0.000371</td>\n",
       "      <td>0.000857</td>\n",
       "      <td>0.129372</td>\n",
       "      <td>0.010767</td>\n",
       "      <td>-0.017725</td>\n",
       "    </tr>\n",
       "    <tr>\n",
       "      <th>duration</th>\n",
       "      <td>-0.000866</td>\n",
       "      <td>1.000000</td>\n",
       "      <td>-0.071699</td>\n",
       "      <td>-0.047577</td>\n",
       "      <td>0.020640</td>\n",
       "      <td>-0.027968</td>\n",
       "      <td>0.005312</td>\n",
       "      <td>-0.008173</td>\n",
       "      <td>-0.032897</td>\n",
       "      <td>-0.044703</td>\n",
       "    </tr>\n",
       "    <tr>\n",
       "      <th>campaign</th>\n",
       "      <td>0.004594</td>\n",
       "      <td>-0.071699</td>\n",
       "      <td>1.000000</td>\n",
       "      <td>0.052584</td>\n",
       "      <td>-0.079141</td>\n",
       "      <td>0.150754</td>\n",
       "      <td>0.127836</td>\n",
       "      <td>-0.013733</td>\n",
       "      <td>0.135133</td>\n",
       "      <td>0.144095</td>\n",
       "    </tr>\n",
       "    <tr>\n",
       "      <th>pdays</th>\n",
       "      <td>-0.034369</td>\n",
       "      <td>-0.047577</td>\n",
       "      <td>0.052584</td>\n",
       "      <td>1.000000</td>\n",
       "      <td>-0.587514</td>\n",
       "      <td>0.271004</td>\n",
       "      <td>0.078889</td>\n",
       "      <td>-0.091342</td>\n",
       "      <td>0.296899</td>\n",
       "      <td>0.372605</td>\n",
       "    </tr>\n",
       "    <tr>\n",
       "      <th>previous</th>\n",
       "      <td>0.024365</td>\n",
       "      <td>0.020640</td>\n",
       "      <td>-0.079141</td>\n",
       "      <td>-0.587514</td>\n",
       "      <td>1.000000</td>\n",
       "      <td>-0.420489</td>\n",
       "      <td>-0.203130</td>\n",
       "      <td>-0.050936</td>\n",
       "      <td>-0.454494</td>\n",
       "      <td>-0.501333</td>\n",
       "    </tr>\n",
       "    <tr>\n",
       "      <th>emp.var.rate</th>\n",
       "      <td>-0.000371</td>\n",
       "      <td>-0.027968</td>\n",
       "      <td>0.150754</td>\n",
       "      <td>0.271004</td>\n",
       "      <td>-0.420489</td>\n",
       "      <td>1.000000</td>\n",
       "      <td>0.775334</td>\n",
       "      <td>0.196041</td>\n",
       "      <td>0.972245</td>\n",
       "      <td>0.906970</td>\n",
       "    </tr>\n",
       "    <tr>\n",
       "      <th>cons.price.idx</th>\n",
       "      <td>0.000857</td>\n",
       "      <td>0.005312</td>\n",
       "      <td>0.127836</td>\n",
       "      <td>0.078889</td>\n",
       "      <td>-0.203130</td>\n",
       "      <td>0.775334</td>\n",
       "      <td>1.000000</td>\n",
       "      <td>0.058986</td>\n",
       "      <td>0.688230</td>\n",
       "      <td>0.522034</td>\n",
       "    </tr>\n",
       "    <tr>\n",
       "      <th>cons.conf.idx</th>\n",
       "      <td>0.129372</td>\n",
       "      <td>-0.008173</td>\n",
       "      <td>-0.013733</td>\n",
       "      <td>-0.091342</td>\n",
       "      <td>-0.050936</td>\n",
       "      <td>0.196041</td>\n",
       "      <td>0.058986</td>\n",
       "      <td>1.000000</td>\n",
       "      <td>0.277686</td>\n",
       "      <td>0.100513</td>\n",
       "    </tr>\n",
       "    <tr>\n",
       "      <th>euribor3m</th>\n",
       "      <td>0.010767</td>\n",
       "      <td>-0.032897</td>\n",
       "      <td>0.135133</td>\n",
       "      <td>0.296899</td>\n",
       "      <td>-0.454494</td>\n",
       "      <td>0.972245</td>\n",
       "      <td>0.688230</td>\n",
       "      <td>0.277686</td>\n",
       "      <td>1.000000</td>\n",
       "      <td>0.945154</td>\n",
       "    </tr>\n",
       "    <tr>\n",
       "      <th>nr.employed</th>\n",
       "      <td>-0.017725</td>\n",
       "      <td>-0.044703</td>\n",
       "      <td>0.144095</td>\n",
       "      <td>0.372605</td>\n",
       "      <td>-0.501333</td>\n",
       "      <td>0.906970</td>\n",
       "      <td>0.522034</td>\n",
       "      <td>0.100513</td>\n",
       "      <td>0.945154</td>\n",
       "      <td>1.000000</td>\n",
       "    </tr>\n",
       "  </tbody>\n",
       "</table>\n",
       "</div>"
      ],
      "text/plain": [
       "                     age  duration  campaign     pdays  previous  \\\n",
       "age             1.000000 -0.000866  0.004594 -0.034369  0.024365   \n",
       "duration       -0.000866  1.000000 -0.071699 -0.047577  0.020640   \n",
       "campaign        0.004594 -0.071699  1.000000  0.052584 -0.079141   \n",
       "pdays          -0.034369 -0.047577  0.052584  1.000000 -0.587514   \n",
       "previous        0.024365  0.020640 -0.079141 -0.587514  1.000000   \n",
       "emp.var.rate   -0.000371 -0.027968  0.150754  0.271004 -0.420489   \n",
       "cons.price.idx  0.000857  0.005312  0.127836  0.078889 -0.203130   \n",
       "cons.conf.idx   0.129372 -0.008173 -0.013733 -0.091342 -0.050936   \n",
       "euribor3m       0.010767 -0.032897  0.135133  0.296899 -0.454494   \n",
       "nr.employed    -0.017725 -0.044703  0.144095  0.372605 -0.501333   \n",
       "\n",
       "                emp.var.rate  cons.price.idx  cons.conf.idx  euribor3m  \\\n",
       "age                -0.000371        0.000857       0.129372   0.010767   \n",
       "duration           -0.027968        0.005312      -0.008173  -0.032897   \n",
       "campaign            0.150754        0.127836      -0.013733   0.135133   \n",
       "pdays               0.271004        0.078889      -0.091342   0.296899   \n",
       "previous           -0.420489       -0.203130      -0.050936  -0.454494   \n",
       "emp.var.rate        1.000000        0.775334       0.196041   0.972245   \n",
       "cons.price.idx      0.775334        1.000000       0.058986   0.688230   \n",
       "cons.conf.idx       0.196041        0.058986       1.000000   0.277686   \n",
       "euribor3m           0.972245        0.688230       0.277686   1.000000   \n",
       "nr.employed         0.906970        0.522034       0.100513   0.945154   \n",
       "\n",
       "                nr.employed  \n",
       "age               -0.017725  \n",
       "duration          -0.044703  \n",
       "campaign           0.144095  \n",
       "pdays              0.372605  \n",
       "previous          -0.501333  \n",
       "emp.var.rate       0.906970  \n",
       "cons.price.idx     0.522034  \n",
       "cons.conf.idx      0.100513  \n",
       "euribor3m          0.945154  \n",
       "nr.employed        1.000000  "
      ]
     },
     "execution_count": 6,
     "metadata": {},
     "output_type": "execute_result"
    }
   ],
   "source": [
    "corrTable = data.corr()\n",
    "corrTable"
   ]
  },
  {
   "cell_type": "code",
   "execution_count": 7,
   "metadata": {},
   "outputs": [
    {
     "name": "stdout",
     "output_type": "stream",
     "text": [
      "emp.var.rate euribor3m 0.9722446711515584\n",
      "emp.var.rate nr.employed 0.9069701012559412\n",
      "euribor3m nr.employed 0.9451544313983309\n"
     ]
    }
   ],
   "source": [
    "for i in corrTable:\n",
    "    for j in corrTable[i].index:\n",
    "        if (i < j) and abs(corrTable[i][j]) > 0.9:\n",
    "            print(i, j, corrTable[i][j])\n",
    "        "
   ]
  },
  {
   "cell_type": "markdown",
   "metadata": {},
   "source": [
    "Как мы видим три столбца наших данных сильно коррелируют между собой, два из них можно удалить."
   ]
  },
  {
   "cell_type": "code",
   "execution_count": 8,
   "metadata": {},
   "outputs": [],
   "source": [
    "data = data.drop(['euribor3m', 'nr.employed'], axis = 1)"
   ]
  },
  {
   "cell_type": "code",
   "execution_count": 9,
   "metadata": {},
   "outputs": [
    {
     "data": {
      "text/html": [
       "<div>\n",
       "<style scoped>\n",
       "    .dataframe tbody tr th:only-of-type {\n",
       "        vertical-align: middle;\n",
       "    }\n",
       "\n",
       "    .dataframe tbody tr th {\n",
       "        vertical-align: top;\n",
       "    }\n",
       "\n",
       "    .dataframe thead th {\n",
       "        text-align: right;\n",
       "    }\n",
       "</style>\n",
       "<table border=\"1\" class=\"dataframe\">\n",
       "  <thead>\n",
       "    <tr style=\"text-align: right;\">\n",
       "      <th></th>\n",
       "      <th>job</th>\n",
       "      <th>marital</th>\n",
       "      <th>education</th>\n",
       "      <th>default</th>\n",
       "      <th>housing</th>\n",
       "      <th>loan</th>\n",
       "      <th>contact</th>\n",
       "      <th>month</th>\n",
       "      <th>day_of_week</th>\n",
       "      <th>poutcome</th>\n",
       "      <th>y</th>\n",
       "    </tr>\n",
       "  </thead>\n",
       "  <tbody>\n",
       "    <tr>\n",
       "      <th>count</th>\n",
       "      <td>41188</td>\n",
       "      <td>41188</td>\n",
       "      <td>41188</td>\n",
       "      <td>41188</td>\n",
       "      <td>41188</td>\n",
       "      <td>41188</td>\n",
       "      <td>41188</td>\n",
       "      <td>41188</td>\n",
       "      <td>41188</td>\n",
       "      <td>41188</td>\n",
       "      <td>41188</td>\n",
       "    </tr>\n",
       "    <tr>\n",
       "      <th>unique</th>\n",
       "      <td>12</td>\n",
       "      <td>4</td>\n",
       "      <td>8</td>\n",
       "      <td>3</td>\n",
       "      <td>3</td>\n",
       "      <td>3</td>\n",
       "      <td>2</td>\n",
       "      <td>10</td>\n",
       "      <td>5</td>\n",
       "      <td>3</td>\n",
       "      <td>2</td>\n",
       "    </tr>\n",
       "    <tr>\n",
       "      <th>top</th>\n",
       "      <td>admin.</td>\n",
       "      <td>married</td>\n",
       "      <td>university.degree</td>\n",
       "      <td>no</td>\n",
       "      <td>yes</td>\n",
       "      <td>no</td>\n",
       "      <td>cellular</td>\n",
       "      <td>may</td>\n",
       "      <td>thu</td>\n",
       "      <td>nonexistent</td>\n",
       "      <td>no</td>\n",
       "    </tr>\n",
       "    <tr>\n",
       "      <th>freq</th>\n",
       "      <td>10422</td>\n",
       "      <td>24928</td>\n",
       "      <td>12168</td>\n",
       "      <td>32588</td>\n",
       "      <td>21576</td>\n",
       "      <td>33950</td>\n",
       "      <td>26144</td>\n",
       "      <td>13769</td>\n",
       "      <td>8623</td>\n",
       "      <td>35563</td>\n",
       "      <td>36548</td>\n",
       "    </tr>\n",
       "  </tbody>\n",
       "</table>\n",
       "</div>"
      ],
      "text/plain": [
       "           job  marital          education default housing   loan   contact  \\\n",
       "count    41188    41188              41188   41188   41188  41188     41188   \n",
       "unique      12        4                  8       3       3      3         2   \n",
       "top     admin.  married  university.degree      no     yes     no  cellular   \n",
       "freq     10422    24928              12168   32588   21576  33950     26144   \n",
       "\n",
       "        month day_of_week     poutcome      y  \n",
       "count   41188       41188        41188  41188  \n",
       "unique     10           5            3      2  \n",
       "top       may         thu  nonexistent     no  \n",
       "freq    13769        8623        35563  36548  "
      ]
     },
     "execution_count": 9,
     "metadata": {},
     "output_type": "execute_result"
    }
   ],
   "source": [
    "data.describe(include = ['object'])"
   ]
  },
  {
   "cell_type": "markdown",
   "metadata": {},
   "source": [
    "# Готовим данные"
   ]
  },
  {
   "cell_type": "code",
   "execution_count": 10,
   "metadata": {},
   "outputs": [
    {
     "name": "stdout",
     "output_type": "stream",
     "text": [
      "['job', 'marital', 'education', 'default', 'housing', 'loan', 'contact', 'month', 'day_of_week', 'poutcome', 'y']\n",
      "['age', 'duration', 'campaign', 'pdays', 'previous', 'emp.var.rate', 'cons.price.idx', 'cons.conf.idx']\n"
     ]
    }
   ],
   "source": [
    "categorical_columns = [c for c in data.columns if data[c].dtype.name == 'object']\n",
    "numerical_columns   = [c for c in data.columns if data[c].dtype.name != 'object']\n",
    "print(categorical_columns)\n",
    "print(numerical_columns)"
   ]
  },
  {
   "cell_type": "code",
   "execution_count": 11,
   "metadata": {},
   "outputs": [
    {
     "name": "stdout",
     "output_type": "stream",
     "text": [
      "admin.           10422\n",
      "blue-collar       9254\n",
      "technician        6743\n",
      "services          3969\n",
      "management        2924\n",
      "retired           1720\n",
      "entrepreneur      1456\n",
      "self-employed     1421\n",
      "housemaid         1060\n",
      "unemployed        1014\n",
      "student            875\n",
      "unknown            330\n",
      "Name: job, dtype: int64 \n",
      "\n",
      "married     24928\n",
      "single      11568\n",
      "divorced     4612\n",
      "unknown        80\n",
      "Name: marital, dtype: int64 \n",
      "\n",
      "university.degree      12168\n",
      "high.school             9515\n",
      "basic.9y                6045\n",
      "professional.course     5243\n",
      "basic.4y                4176\n",
      "basic.6y                2292\n",
      "unknown                 1731\n",
      "illiterate                18\n",
      "Name: education, dtype: int64 \n",
      "\n",
      "no         32588\n",
      "unknown     8597\n",
      "yes            3\n",
      "Name: default, dtype: int64 \n",
      "\n",
      "yes        21576\n",
      "no         18622\n",
      "unknown      990\n",
      "Name: housing, dtype: int64 \n",
      "\n",
      "no         33950\n",
      "yes         6248\n",
      "unknown      990\n",
      "Name: loan, dtype: int64 \n",
      "\n",
      "cellular     26144\n",
      "telephone    15044\n",
      "Name: contact, dtype: int64 \n",
      "\n",
      "may    13769\n",
      "jul     7174\n",
      "aug     6178\n",
      "jun     5318\n",
      "nov     4101\n",
      "apr     2632\n",
      "oct      718\n",
      "sep      570\n",
      "mar      546\n",
      "dec      182\n",
      "Name: month, dtype: int64 \n",
      "\n",
      "thu    8623\n",
      "mon    8514\n",
      "wed    8134\n",
      "tue    8090\n",
      "fri    7827\n",
      "Name: day_of_week, dtype: int64 \n",
      "\n",
      "nonexistent    35563\n",
      "failure         4252\n",
      "success         1373\n",
      "Name: poutcome, dtype: int64 \n",
      "\n",
      "no     36548\n",
      "yes     4640\n",
      "Name: y, dtype: int64 \n",
      "\n"
     ]
    }
   ],
   "source": [
    "for name in categorical_columns:\n",
    "    print(data[name].value_counts(), \"\\n\")"
   ]
  },
  {
   "cell_type": "markdown",
   "metadata": {},
   "source": [
    "Как мы видим, классы в наших данных сильно доминированы классом `no`\n",
    "Это значит что если наш классификатор всегда будет предсказывать `no`  то ошибка составит\n",
    "4640 / (36548 + 4640) или 0.112. "
   ]
  },
  {
   "cell_type": "code",
   "execution_count": 12,
   "metadata": {},
   "outputs": [
    {
     "data": {
      "text/plain": [
       "0.11265417111780131"
      ]
     },
     "execution_count": 12,
     "metadata": {},
     "output_type": "execute_result"
    }
   ],
   "source": [
    "4640 / (36548 + 4640)"
   ]
  },
  {
   "cell_type": "markdown",
   "metadata": {},
   "source": [
    "## Обрабатываем пропущенные значения\n",
    "\n",
    "В наших данных пропущенными значениями являются `unknown` в некоторых столбцах.\n",
    "\n",
    "Заменим их на самое популярное значение.\n",
    "\n",
    "Так как стобец `default` после этой операции станет практически полностью `no` мы его удалим.\n",
    "\n",
    "Также создатели датасет рекомендуют не пользоваться столбцом `duration` (так как он нечестно получен?)\n"
   ]
  },
  {
   "cell_type": "code",
   "execution_count": 13,
   "metadata": {},
   "outputs": [],
   "source": [
    "for name in ['job', 'education', 'marital', 'housing', 'loan']:\n",
    "    data.loc[data[name] == 'unknown', name] = data[name].describe().top\n",
    "data = data.drop(['default', 'duration'], axis=1)\n",
    "\n",
    "categorical_columns = [c for c in data.columns if data[c].dtype.name == 'object']\n",
    "numerical_columns   = [c for c in data.columns if data[c].dtype.name != 'object']"
   ]
  },
  {
   "cell_type": "markdown",
   "metadata": {},
   "source": [
    "## Векторизация\n",
    "\n",
    "Нужно что-то сделать с категориальными (номинальными) признаками"
   ]
  },
  {
   "cell_type": "code",
   "execution_count": 14,
   "metadata": {},
   "outputs": [
    {
     "name": "stdout",
     "output_type": "stream",
     "text": [
      "['housing', 'loan', 'contact', 'y'] ['job', 'marital', 'education', 'month', 'day_of_week', 'poutcome']\n"
     ]
    }
   ],
   "source": [
    "data_describe = data.describe(include = ['object'])\n",
    "binary_columns    = [c for c in categorical_columns if data_describe[c]['unique'] == 2]\n",
    "nonbinary_columns = [c for c in categorical_columns if data_describe[c]['unique'] > 2]\n",
    "print(binary_columns, nonbinary_columns)"
   ]
  },
  {
   "cell_type": "code",
   "execution_count": 15,
   "metadata": {},
   "outputs": [],
   "source": [
    "for name in binary_columns:\n",
    "    A, B = data[name].unique()\n",
    "    data.at[data[name] == A, name] = 0\n",
    "    data.at[data[name] == B, name] = 1"
   ]
  },
  {
   "cell_type": "markdown",
   "metadata": {},
   "source": [
    "К небинарными признакам применим метод _векторизации_, \n",
    "который заключается в следующем.\n",
    "\n",
    "Признак `j`, принимающий `s` значений, заменим на `s` признаков, принимащих значения `0` или `1`,\n",
    "в зависимости от того, чему равно значение исходного признака `j`.\n",
    "\n",
    "Например, в нашей задаче признак `marital` принимает 3 различных значения: "
   ]
  },
  {
   "cell_type": "code",
   "execution_count": 16,
   "metadata": {},
   "outputs": [
    {
     "data": {
      "text/plain": [
       "array(['married', 'single', 'divorced'], dtype=object)"
      ]
     },
     "execution_count": 16,
     "metadata": {},
     "output_type": "execute_result"
    }
   ],
   "source": [
    "data['marital'].unique()"
   ]
  },
  {
   "cell_type": "markdown",
   "metadata": {},
   "source": [
    "Заменим признак `marital` 3 признаками: `marital_married`, `marital_single`, `marital_divorced`.\n"
   ]
  },
  {
   "cell_type": "code",
   "execution_count": 17,
   "metadata": {},
   "outputs": [
    {
     "name": "stdout",
     "output_type": "stream",
     "text": [
      "Index(['job_admin.', 'job_blue-collar', 'job_entrepreneur', 'job_housemaid',\n",
      "       'job_management', 'job_retired', 'job_self-employed', 'job_services',\n",
      "       'job_student', 'job_technician', 'job_unemployed', 'marital_divorced',\n",
      "       'marital_married', 'marital_single', 'education_basic.4y',\n",
      "       'education_basic.6y', 'education_basic.9y', 'education_high.school',\n",
      "       'education_illiterate', 'education_professional.course',\n",
      "       'education_university.degree', 'month_apr', 'month_aug', 'month_dec',\n",
      "       'month_jul', 'month_jun', 'month_mar', 'month_may', 'month_nov',\n",
      "       'month_oct', 'month_sep', 'day_of_week_fri', 'day_of_week_mon',\n",
      "       'day_of_week_thu', 'day_of_week_tue', 'day_of_week_wed',\n",
      "       'poutcome_failure', 'poutcome_nonexistent', 'poutcome_success'],\n",
      "      dtype='object')\n"
     ]
    }
   ],
   "source": [
    "data_nonbinary = pd.get_dummies(data[nonbinary_columns])\n",
    "print(data_nonbinary.columns)"
   ]
  },
  {
   "cell_type": "markdown",
   "metadata": {},
   "source": [
    "## Нормализация количественных признаков\n",
    "\n",
    "Многие алгоритмы машинного обучения чувствительны к масштабированию данных.\n",
    "К таким алгоритмам, например, относится метод ближайших соседей, машина опорных векторов и др.\n",
    "\n",
    "В этом случае количественные признаки полезно _нормализовать_.\n",
    "Это можно делать разными способами.\n",
    "Например, каждый количественный признак приведем к нулевому среднему и единичному среднеквадратичному отклонению:"
   ]
  },
  {
   "cell_type": "code",
   "execution_count": 18,
   "metadata": {},
   "outputs": [
    {
     "data": {
      "text/html": [
       "<div>\n",
       "<style scoped>\n",
       "    .dataframe tbody tr th:only-of-type {\n",
       "        vertical-align: middle;\n",
       "    }\n",
       "\n",
       "    .dataframe tbody tr th {\n",
       "        vertical-align: top;\n",
       "    }\n",
       "\n",
       "    .dataframe thead th {\n",
       "        text-align: right;\n",
       "    }\n",
       "</style>\n",
       "<table border=\"1\" class=\"dataframe\">\n",
       "  <thead>\n",
       "    <tr style=\"text-align: right;\">\n",
       "      <th></th>\n",
       "      <th>age</th>\n",
       "      <th>campaign</th>\n",
       "      <th>pdays</th>\n",
       "      <th>previous</th>\n",
       "      <th>emp.var.rate</th>\n",
       "      <th>cons.price.idx</th>\n",
       "      <th>cons.conf.idx</th>\n",
       "    </tr>\n",
       "  </thead>\n",
       "  <tbody>\n",
       "    <tr>\n",
       "      <th>count</th>\n",
       "      <td>41188.00000</td>\n",
       "      <td>41188.000000</td>\n",
       "      <td>41188.000000</td>\n",
       "      <td>41188.000000</td>\n",
       "      <td>41188.000000</td>\n",
       "      <td>41188.000000</td>\n",
       "      <td>41188.000000</td>\n",
       "    </tr>\n",
       "    <tr>\n",
       "      <th>mean</th>\n",
       "      <td>40.02406</td>\n",
       "      <td>2.567593</td>\n",
       "      <td>962.475454</td>\n",
       "      <td>0.172963</td>\n",
       "      <td>0.081886</td>\n",
       "      <td>93.575664</td>\n",
       "      <td>-40.502600</td>\n",
       "    </tr>\n",
       "    <tr>\n",
       "      <th>std</th>\n",
       "      <td>10.42125</td>\n",
       "      <td>2.770014</td>\n",
       "      <td>186.910907</td>\n",
       "      <td>0.494901</td>\n",
       "      <td>1.570960</td>\n",
       "      <td>0.578840</td>\n",
       "      <td>4.628198</td>\n",
       "    </tr>\n",
       "    <tr>\n",
       "      <th>min</th>\n",
       "      <td>17.00000</td>\n",
       "      <td>1.000000</td>\n",
       "      <td>0.000000</td>\n",
       "      <td>0.000000</td>\n",
       "      <td>-3.400000</td>\n",
       "      <td>92.201000</td>\n",
       "      <td>-50.800000</td>\n",
       "    </tr>\n",
       "    <tr>\n",
       "      <th>25%</th>\n",
       "      <td>32.00000</td>\n",
       "      <td>1.000000</td>\n",
       "      <td>999.000000</td>\n",
       "      <td>0.000000</td>\n",
       "      <td>-1.800000</td>\n",
       "      <td>93.075000</td>\n",
       "      <td>-42.700000</td>\n",
       "    </tr>\n",
       "    <tr>\n",
       "      <th>50%</th>\n",
       "      <td>38.00000</td>\n",
       "      <td>2.000000</td>\n",
       "      <td>999.000000</td>\n",
       "      <td>0.000000</td>\n",
       "      <td>1.100000</td>\n",
       "      <td>93.749000</td>\n",
       "      <td>-41.800000</td>\n",
       "    </tr>\n",
       "    <tr>\n",
       "      <th>75%</th>\n",
       "      <td>47.00000</td>\n",
       "      <td>3.000000</td>\n",
       "      <td>999.000000</td>\n",
       "      <td>0.000000</td>\n",
       "      <td>1.400000</td>\n",
       "      <td>93.994000</td>\n",
       "      <td>-36.400000</td>\n",
       "    </tr>\n",
       "    <tr>\n",
       "      <th>max</th>\n",
       "      <td>98.00000</td>\n",
       "      <td>56.000000</td>\n",
       "      <td>999.000000</td>\n",
       "      <td>7.000000</td>\n",
       "      <td>1.400000</td>\n",
       "      <td>94.767000</td>\n",
       "      <td>-26.900000</td>\n",
       "    </tr>\n",
       "  </tbody>\n",
       "</table>\n",
       "</div>"
      ],
      "text/plain": [
       "               age      campaign         pdays      previous  emp.var.rate  \\\n",
       "count  41188.00000  41188.000000  41188.000000  41188.000000  41188.000000   \n",
       "mean      40.02406      2.567593    962.475454      0.172963      0.081886   \n",
       "std       10.42125      2.770014    186.910907      0.494901      1.570960   \n",
       "min       17.00000      1.000000      0.000000      0.000000     -3.400000   \n",
       "25%       32.00000      1.000000    999.000000      0.000000     -1.800000   \n",
       "50%       38.00000      2.000000    999.000000      0.000000      1.100000   \n",
       "75%       47.00000      3.000000    999.000000      0.000000      1.400000   \n",
       "max       98.00000     56.000000    999.000000      7.000000      1.400000   \n",
       "\n",
       "       cons.price.idx  cons.conf.idx  \n",
       "count    41188.000000   41188.000000  \n",
       "mean        93.575664     -40.502600  \n",
       "std          0.578840       4.628198  \n",
       "min         92.201000     -50.800000  \n",
       "25%         93.075000     -42.700000  \n",
       "50%         93.749000     -41.800000  \n",
       "75%         93.994000     -36.400000  \n",
       "max         94.767000     -26.900000  "
      ]
     },
     "execution_count": 18,
     "metadata": {},
     "output_type": "execute_result"
    }
   ],
   "source": [
    "data_numerical = data[numerical_columns]\n",
    "data_numerical.describe()"
   ]
  },
  {
   "cell_type": "code",
   "execution_count": 19,
   "metadata": {},
   "outputs": [],
   "source": [
    "data_numerical = (data_numerical - data_numerical.mean(axis = 0))/data_numerical.std(axis = 0)"
   ]
  },
  {
   "cell_type": "code",
   "execution_count": 20,
   "metadata": {},
   "outputs": [
    {
     "data": {
      "text/html": [
       "<div>\n",
       "<style scoped>\n",
       "    .dataframe tbody tr th:only-of-type {\n",
       "        vertical-align: middle;\n",
       "    }\n",
       "\n",
       "    .dataframe tbody tr th {\n",
       "        vertical-align: top;\n",
       "    }\n",
       "\n",
       "    .dataframe thead th {\n",
       "        text-align: right;\n",
       "    }\n",
       "</style>\n",
       "<table border=\"1\" class=\"dataframe\">\n",
       "  <thead>\n",
       "    <tr style=\"text-align: right;\">\n",
       "      <th></th>\n",
       "      <th>age</th>\n",
       "      <th>campaign</th>\n",
       "      <th>pdays</th>\n",
       "      <th>previous</th>\n",
       "      <th>emp.var.rate</th>\n",
       "      <th>cons.price.idx</th>\n",
       "      <th>cons.conf.idx</th>\n",
       "    </tr>\n",
       "  </thead>\n",
       "  <tbody>\n",
       "    <tr>\n",
       "      <th>count</th>\n",
       "      <td>4.118800e+04</td>\n",
       "      <td>4.118800e+04</td>\n",
       "      <td>4.118800e+04</td>\n",
       "      <td>4.118800e+04</td>\n",
       "      <td>4.118800e+04</td>\n",
       "      <td>4.118800e+04</td>\n",
       "      <td>4.118800e+04</td>\n",
       "    </tr>\n",
       "    <tr>\n",
       "      <th>mean</th>\n",
       "      <td>-1.009196e-16</td>\n",
       "      <td>-9.591671e-17</td>\n",
       "      <td>-2.842999e-16</td>\n",
       "      <td>6.624464e-17</td>\n",
       "      <td>-4.218210e-13</td>\n",
       "      <td>-8.643368e-11</td>\n",
       "      <td>-2.132652e-12</td>\n",
       "    </tr>\n",
       "    <tr>\n",
       "      <th>std</th>\n",
       "      <td>1.000000e+00</td>\n",
       "      <td>1.000000e+00</td>\n",
       "      <td>1.000000e+00</td>\n",
       "      <td>1.000000e+00</td>\n",
       "      <td>1.000000e+00</td>\n",
       "      <td>1.000000e+00</td>\n",
       "      <td>1.000000e+00</td>\n",
       "    </tr>\n",
       "    <tr>\n",
       "      <th>min</th>\n",
       "      <td>-2.209338e+00</td>\n",
       "      <td>-5.659151e-01</td>\n",
       "      <td>-5.149381e+00</td>\n",
       "      <td>-3.494900e-01</td>\n",
       "      <td>-2.216407e+00</td>\n",
       "      <td>-2.374861e+00</td>\n",
       "      <td>-2.224926e+00</td>\n",
       "    </tr>\n",
       "    <tr>\n",
       "      <th>25%</th>\n",
       "      <td>-7.699710e-01</td>\n",
       "      <td>-5.659151e-01</td>\n",
       "      <td>1.954115e-01</td>\n",
       "      <td>-3.494900e-01</td>\n",
       "      <td>-1.197921e+00</td>\n",
       "      <td>-8.649442e-01</td>\n",
       "      <td>-4.747852e-01</td>\n",
       "    </tr>\n",
       "    <tr>\n",
       "      <th>50%</th>\n",
       "      <td>-1.942243e-01</td>\n",
       "      <td>-2.049060e-01</td>\n",
       "      <td>1.954115e-01</td>\n",
       "      <td>-3.494900e-01</td>\n",
       "      <td>6.480844e-01</td>\n",
       "      <td>2.994534e-01</td>\n",
       "      <td>-2.803250e-01</td>\n",
       "    </tr>\n",
       "    <tr>\n",
       "      <th>75%</th>\n",
       "      <td>6.693957e-01</td>\n",
       "      <td>1.561030e-01</td>\n",
       "      <td>1.954115e-01</td>\n",
       "      <td>-3.494900e-01</td>\n",
       "      <td>8.390505e-01</td>\n",
       "      <td>7.227137e-01</td>\n",
       "      <td>8.864358e-01</td>\n",
       "    </tr>\n",
       "    <tr>\n",
       "      <th>max</th>\n",
       "      <td>5.563242e+00</td>\n",
       "      <td>1.928958e+01</td>\n",
       "      <td>1.954115e-01</td>\n",
       "      <td>1.379475e+01</td>\n",
       "      <td>8.390505e-01</td>\n",
       "      <td>2.058143e+00</td>\n",
       "      <td>2.939071e+00</td>\n",
       "    </tr>\n",
       "  </tbody>\n",
       "</table>\n",
       "</div>"
      ],
      "text/plain": [
       "                age      campaign         pdays      previous  emp.var.rate  \\\n",
       "count  4.118800e+04  4.118800e+04  4.118800e+04  4.118800e+04  4.118800e+04   \n",
       "mean  -1.009196e-16 -9.591671e-17 -2.842999e-16  6.624464e-17 -4.218210e-13   \n",
       "std    1.000000e+00  1.000000e+00  1.000000e+00  1.000000e+00  1.000000e+00   \n",
       "min   -2.209338e+00 -5.659151e-01 -5.149381e+00 -3.494900e-01 -2.216407e+00   \n",
       "25%   -7.699710e-01 -5.659151e-01  1.954115e-01 -3.494900e-01 -1.197921e+00   \n",
       "50%   -1.942243e-01 -2.049060e-01  1.954115e-01 -3.494900e-01  6.480844e-01   \n",
       "75%    6.693957e-01  1.561030e-01  1.954115e-01 -3.494900e-01  8.390505e-01   \n",
       "max    5.563242e+00  1.928958e+01  1.954115e-01  1.379475e+01  8.390505e-01   \n",
       "\n",
       "       cons.price.idx  cons.conf.idx  \n",
       "count    4.118800e+04   4.118800e+04  \n",
       "mean    -8.643368e-11  -2.132652e-12  \n",
       "std      1.000000e+00   1.000000e+00  \n",
       "min     -2.374861e+00  -2.224926e+00  \n",
       "25%     -8.649442e-01  -4.747852e-01  \n",
       "50%      2.994534e-01  -2.803250e-01  \n",
       "75%      7.227137e-01   8.864358e-01  \n",
       "max      2.058143e+00   2.939071e+00  "
      ]
     },
     "execution_count": 20,
     "metadata": {},
     "output_type": "execute_result"
    }
   ],
   "source": [
    "data_numerical.describe()"
   ]
  },
  {
   "cell_type": "markdown",
   "metadata": {},
   "source": [
    "## Соединяем все в одну таблицу"
   ]
  },
  {
   "cell_type": "code",
   "execution_count": 21,
   "metadata": {},
   "outputs": [
    {
     "name": "stdout",
     "output_type": "stream",
     "text": [
      "(41188, 50)\n",
      "Index(['age', 'campaign', 'pdays', 'previous', 'emp.var.rate',\n",
      "       'cons.price.idx', 'cons.conf.idx', 'job_admin.', 'job_blue-collar',\n",
      "       'job_entrepreneur', 'job_housemaid', 'job_management', 'job_retired',\n",
      "       'job_self-employed', 'job_services', 'job_student', 'job_technician',\n",
      "       'job_unemployed', 'marital_divorced', 'marital_married',\n",
      "       'marital_single', 'education_basic.4y', 'education_basic.6y',\n",
      "       'education_basic.9y', 'education_high.school', 'education_illiterate',\n",
      "       'education_professional.course', 'education_university.degree',\n",
      "       'month_apr', 'month_aug', 'month_dec', 'month_jul', 'month_jun',\n",
      "       'month_mar', 'month_may', 'month_nov', 'month_oct', 'month_sep',\n",
      "       'day_of_week_fri', 'day_of_week_mon', 'day_of_week_thu',\n",
      "       'day_of_week_tue', 'day_of_week_wed', 'poutcome_failure',\n",
      "       'poutcome_nonexistent', 'poutcome_success', 'housing', 'loan',\n",
      "       'contact', 'y'],\n",
      "      dtype='object')\n"
     ]
    },
    {
     "data": {
      "text/html": [
       "<div>\n",
       "<style scoped>\n",
       "    .dataframe tbody tr th:only-of-type {\n",
       "        vertical-align: middle;\n",
       "    }\n",
       "\n",
       "    .dataframe tbody tr th {\n",
       "        vertical-align: top;\n",
       "    }\n",
       "\n",
       "    .dataframe thead th {\n",
       "        text-align: right;\n",
       "    }\n",
       "</style>\n",
       "<table border=\"1\" class=\"dataframe\">\n",
       "  <thead>\n",
       "    <tr style=\"text-align: right;\">\n",
       "      <th></th>\n",
       "      <th>age</th>\n",
       "      <th>campaign</th>\n",
       "      <th>pdays</th>\n",
       "      <th>previous</th>\n",
       "      <th>emp.var.rate</th>\n",
       "      <th>cons.price.idx</th>\n",
       "      <th>cons.conf.idx</th>\n",
       "      <th>job_admin.</th>\n",
       "      <th>job_blue-collar</th>\n",
       "      <th>job_entrepreneur</th>\n",
       "      <th>...</th>\n",
       "      <th>day_of_week_thu</th>\n",
       "      <th>day_of_week_tue</th>\n",
       "      <th>day_of_week_wed</th>\n",
       "      <th>poutcome_failure</th>\n",
       "      <th>poutcome_nonexistent</th>\n",
       "      <th>poutcome_success</th>\n",
       "      <th>housing</th>\n",
       "      <th>loan</th>\n",
       "      <th>contact</th>\n",
       "      <th>y</th>\n",
       "    </tr>\n",
       "  </thead>\n",
       "  <tbody>\n",
       "    <tr>\n",
       "      <th>0</th>\n",
       "      <td>1.533016</td>\n",
       "      <td>-0.565915</td>\n",
       "      <td>0.195412</td>\n",
       "      <td>-0.34949</td>\n",
       "      <td>0.648084</td>\n",
       "      <td>0.722714</td>\n",
       "      <td>0.886436</td>\n",
       "      <td>0</td>\n",
       "      <td>0</td>\n",
       "      <td>0</td>\n",
       "      <td>...</td>\n",
       "      <td>0</td>\n",
       "      <td>0</td>\n",
       "      <td>0</td>\n",
       "      <td>0</td>\n",
       "      <td>1</td>\n",
       "      <td>0</td>\n",
       "      <td>0</td>\n",
       "      <td>0</td>\n",
       "      <td>0</td>\n",
       "      <td>0</td>\n",
       "    </tr>\n",
       "    <tr>\n",
       "      <th>1</th>\n",
       "      <td>1.628973</td>\n",
       "      <td>-0.565915</td>\n",
       "      <td>0.195412</td>\n",
       "      <td>-0.34949</td>\n",
       "      <td>0.648084</td>\n",
       "      <td>0.722714</td>\n",
       "      <td>0.886436</td>\n",
       "      <td>0</td>\n",
       "      <td>0</td>\n",
       "      <td>0</td>\n",
       "      <td>...</td>\n",
       "      <td>0</td>\n",
       "      <td>0</td>\n",
       "      <td>0</td>\n",
       "      <td>0</td>\n",
       "      <td>1</td>\n",
       "      <td>0</td>\n",
       "      <td>0</td>\n",
       "      <td>0</td>\n",
       "      <td>0</td>\n",
       "      <td>0</td>\n",
       "    </tr>\n",
       "    <tr>\n",
       "      <th>2</th>\n",
       "      <td>-0.290182</td>\n",
       "      <td>-0.565915</td>\n",
       "      <td>0.195412</td>\n",
       "      <td>-0.34949</td>\n",
       "      <td>0.648084</td>\n",
       "      <td>0.722714</td>\n",
       "      <td>0.886436</td>\n",
       "      <td>0</td>\n",
       "      <td>0</td>\n",
       "      <td>0</td>\n",
       "      <td>...</td>\n",
       "      <td>0</td>\n",
       "      <td>0</td>\n",
       "      <td>0</td>\n",
       "      <td>0</td>\n",
       "      <td>1</td>\n",
       "      <td>0</td>\n",
       "      <td>1</td>\n",
       "      <td>0</td>\n",
       "      <td>0</td>\n",
       "      <td>0</td>\n",
       "    </tr>\n",
       "    <tr>\n",
       "      <th>3</th>\n",
       "      <td>-0.002309</td>\n",
       "      <td>-0.565915</td>\n",
       "      <td>0.195412</td>\n",
       "      <td>-0.34949</td>\n",
       "      <td>0.648084</td>\n",
       "      <td>0.722714</td>\n",
       "      <td>0.886436</td>\n",
       "      <td>1</td>\n",
       "      <td>0</td>\n",
       "      <td>0</td>\n",
       "      <td>...</td>\n",
       "      <td>0</td>\n",
       "      <td>0</td>\n",
       "      <td>0</td>\n",
       "      <td>0</td>\n",
       "      <td>1</td>\n",
       "      <td>0</td>\n",
       "      <td>0</td>\n",
       "      <td>0</td>\n",
       "      <td>0</td>\n",
       "      <td>0</td>\n",
       "    </tr>\n",
       "    <tr>\n",
       "      <th>4</th>\n",
       "      <td>1.533016</td>\n",
       "      <td>-0.565915</td>\n",
       "      <td>0.195412</td>\n",
       "      <td>-0.34949</td>\n",
       "      <td>0.648084</td>\n",
       "      <td>0.722714</td>\n",
       "      <td>0.886436</td>\n",
       "      <td>0</td>\n",
       "      <td>0</td>\n",
       "      <td>0</td>\n",
       "      <td>...</td>\n",
       "      <td>0</td>\n",
       "      <td>0</td>\n",
       "      <td>0</td>\n",
       "      <td>0</td>\n",
       "      <td>1</td>\n",
       "      <td>0</td>\n",
       "      <td>0</td>\n",
       "      <td>1</td>\n",
       "      <td>0</td>\n",
       "      <td>0</td>\n",
       "    </tr>\n",
       "  </tbody>\n",
       "</table>\n",
       "<p>5 rows × 50 columns</p>\n",
       "</div>"
      ],
      "text/plain": [
       "        age  campaign     pdays  previous  emp.var.rate  cons.price.idx  \\\n",
       "0  1.533016 -0.565915  0.195412  -0.34949      0.648084        0.722714   \n",
       "1  1.628973 -0.565915  0.195412  -0.34949      0.648084        0.722714   \n",
       "2 -0.290182 -0.565915  0.195412  -0.34949      0.648084        0.722714   \n",
       "3 -0.002309 -0.565915  0.195412  -0.34949      0.648084        0.722714   \n",
       "4  1.533016 -0.565915  0.195412  -0.34949      0.648084        0.722714   \n",
       "\n",
       "   cons.conf.idx  job_admin.  job_blue-collar  job_entrepreneur ...  \\\n",
       "0       0.886436           0                0                 0 ...   \n",
       "1       0.886436           0                0                 0 ...   \n",
       "2       0.886436           0                0                 0 ...   \n",
       "3       0.886436           1                0                 0 ...   \n",
       "4       0.886436           0                0                 0 ...   \n",
       "\n",
       "   day_of_week_thu  day_of_week_tue  day_of_week_wed  poutcome_failure  \\\n",
       "0                0                0                0                 0   \n",
       "1                0                0                0                 0   \n",
       "2                0                0                0                 0   \n",
       "3                0                0                0                 0   \n",
       "4                0                0                0                 0   \n",
       "\n",
       "   poutcome_nonexistent  poutcome_success  housing  loan  contact  y  \n",
       "0                     1                 0        0     0        0  0  \n",
       "1                     1                 0        0     0        0  0  \n",
       "2                     1                 0        1     0        0  0  \n",
       "3                     1                 0        0     0        0  0  \n",
       "4                     1                 0        0     1        0  0  \n",
       "\n",
       "[5 rows x 50 columns]"
      ]
     },
     "execution_count": 21,
     "metadata": {},
     "output_type": "execute_result"
    }
   ],
   "source": [
    "data_cleaned = pd.concat((data_numerical, data_nonbinary, data[binary_columns]), axis = 1)\n",
    "print(data_cleaned.shape)\n",
    "print(data_cleaned.columns)\n",
    "data_cleaned.head()"
   ]
  },
  {
   "cell_type": "code",
   "execution_count": 22,
   "metadata": {},
   "outputs": [
    {
     "data": {
      "text/html": [
       "<div>\n",
       "<style scoped>\n",
       "    .dataframe tbody tr th:only-of-type {\n",
       "        vertical-align: middle;\n",
       "    }\n",
       "\n",
       "    .dataframe tbody tr th {\n",
       "        vertical-align: top;\n",
       "    }\n",
       "\n",
       "    .dataframe thead th {\n",
       "        text-align: right;\n",
       "    }\n",
       "</style>\n",
       "<table border=\"1\" class=\"dataframe\">\n",
       "  <thead>\n",
       "    <tr style=\"text-align: right;\">\n",
       "      <th></th>\n",
       "      <th>age</th>\n",
       "      <th>campaign</th>\n",
       "      <th>pdays</th>\n",
       "      <th>previous</th>\n",
       "      <th>emp.var.rate</th>\n",
       "      <th>cons.price.idx</th>\n",
       "      <th>cons.conf.idx</th>\n",
       "      <th>job_admin.</th>\n",
       "      <th>job_blue-collar</th>\n",
       "      <th>job_entrepreneur</th>\n",
       "      <th>...</th>\n",
       "      <th>day_of_week_thu</th>\n",
       "      <th>day_of_week_tue</th>\n",
       "      <th>day_of_week_wed</th>\n",
       "      <th>poutcome_failure</th>\n",
       "      <th>poutcome_nonexistent</th>\n",
       "      <th>poutcome_success</th>\n",
       "      <th>housing</th>\n",
       "      <th>loan</th>\n",
       "      <th>contact</th>\n",
       "      <th>y</th>\n",
       "    </tr>\n",
       "  </thead>\n",
       "  <tbody>\n",
       "    <tr>\n",
       "      <th>count</th>\n",
       "      <td>4.118800e+04</td>\n",
       "      <td>4.118800e+04</td>\n",
       "      <td>4.118800e+04</td>\n",
       "      <td>4.118800e+04</td>\n",
       "      <td>4.118800e+04</td>\n",
       "      <td>4.118800e+04</td>\n",
       "      <td>4.118800e+04</td>\n",
       "      <td>41188.000000</td>\n",
       "      <td>41188.000000</td>\n",
       "      <td>41188.000000</td>\n",
       "      <td>...</td>\n",
       "      <td>41188.000000</td>\n",
       "      <td>41188.000000</td>\n",
       "      <td>41188.000000</td>\n",
       "      <td>41188.000000</td>\n",
       "      <td>41188.000000</td>\n",
       "      <td>41188.000000</td>\n",
       "      <td>41188.000000</td>\n",
       "      <td>41188.000000</td>\n",
       "      <td>41188.000000</td>\n",
       "      <td>41188.000000</td>\n",
       "    </tr>\n",
       "    <tr>\n",
       "      <th>mean</th>\n",
       "      <td>-1.009196e-16</td>\n",
       "      <td>-9.591671e-17</td>\n",
       "      <td>-2.842999e-16</td>\n",
       "      <td>6.624464e-17</td>\n",
       "      <td>-4.218210e-13</td>\n",
       "      <td>-8.643368e-11</td>\n",
       "      <td>-2.132652e-12</td>\n",
       "      <td>0.261047</td>\n",
       "      <td>0.224677</td>\n",
       "      <td>0.035350</td>\n",
       "      <td>...</td>\n",
       "      <td>0.209357</td>\n",
       "      <td>0.196416</td>\n",
       "      <td>0.197485</td>\n",
       "      <td>0.103234</td>\n",
       "      <td>0.863431</td>\n",
       "      <td>0.033335</td>\n",
       "      <td>0.547878</td>\n",
       "      <td>0.151695</td>\n",
       "      <td>0.634748</td>\n",
       "      <td>0.112654</td>\n",
       "    </tr>\n",
       "    <tr>\n",
       "      <th>std</th>\n",
       "      <td>1.000000e+00</td>\n",
       "      <td>1.000000e+00</td>\n",
       "      <td>1.000000e+00</td>\n",
       "      <td>1.000000e+00</td>\n",
       "      <td>1.000000e+00</td>\n",
       "      <td>1.000000e+00</td>\n",
       "      <td>1.000000e+00</td>\n",
       "      <td>0.439211</td>\n",
       "      <td>0.417375</td>\n",
       "      <td>0.184665</td>\n",
       "      <td>...</td>\n",
       "      <td>0.406855</td>\n",
       "      <td>0.397292</td>\n",
       "      <td>0.398106</td>\n",
       "      <td>0.304268</td>\n",
       "      <td>0.343396</td>\n",
       "      <td>0.179512</td>\n",
       "      <td>0.497708</td>\n",
       "      <td>0.358729</td>\n",
       "      <td>0.481507</td>\n",
       "      <td>0.316173</td>\n",
       "    </tr>\n",
       "    <tr>\n",
       "      <th>min</th>\n",
       "      <td>-2.209338e+00</td>\n",
       "      <td>-5.659151e-01</td>\n",
       "      <td>-5.149381e+00</td>\n",
       "      <td>-3.494900e-01</td>\n",
       "      <td>-2.216407e+00</td>\n",
       "      <td>-2.374861e+00</td>\n",
       "      <td>-2.224926e+00</td>\n",
       "      <td>0.000000</td>\n",
       "      <td>0.000000</td>\n",
       "      <td>0.000000</td>\n",
       "      <td>...</td>\n",
       "      <td>0.000000</td>\n",
       "      <td>0.000000</td>\n",
       "      <td>0.000000</td>\n",
       "      <td>0.000000</td>\n",
       "      <td>0.000000</td>\n",
       "      <td>0.000000</td>\n",
       "      <td>0.000000</td>\n",
       "      <td>0.000000</td>\n",
       "      <td>0.000000</td>\n",
       "      <td>0.000000</td>\n",
       "    </tr>\n",
       "    <tr>\n",
       "      <th>25%</th>\n",
       "      <td>-7.699710e-01</td>\n",
       "      <td>-5.659151e-01</td>\n",
       "      <td>1.954115e-01</td>\n",
       "      <td>-3.494900e-01</td>\n",
       "      <td>-1.197921e+00</td>\n",
       "      <td>-8.649442e-01</td>\n",
       "      <td>-4.747852e-01</td>\n",
       "      <td>0.000000</td>\n",
       "      <td>0.000000</td>\n",
       "      <td>0.000000</td>\n",
       "      <td>...</td>\n",
       "      <td>0.000000</td>\n",
       "      <td>0.000000</td>\n",
       "      <td>0.000000</td>\n",
       "      <td>0.000000</td>\n",
       "      <td>1.000000</td>\n",
       "      <td>0.000000</td>\n",
       "      <td>0.000000</td>\n",
       "      <td>0.000000</td>\n",
       "      <td>0.000000</td>\n",
       "      <td>0.000000</td>\n",
       "    </tr>\n",
       "    <tr>\n",
       "      <th>50%</th>\n",
       "      <td>-1.942243e-01</td>\n",
       "      <td>-2.049060e-01</td>\n",
       "      <td>1.954115e-01</td>\n",
       "      <td>-3.494900e-01</td>\n",
       "      <td>6.480844e-01</td>\n",
       "      <td>2.994534e-01</td>\n",
       "      <td>-2.803250e-01</td>\n",
       "      <td>0.000000</td>\n",
       "      <td>0.000000</td>\n",
       "      <td>0.000000</td>\n",
       "      <td>...</td>\n",
       "      <td>0.000000</td>\n",
       "      <td>0.000000</td>\n",
       "      <td>0.000000</td>\n",
       "      <td>0.000000</td>\n",
       "      <td>1.000000</td>\n",
       "      <td>0.000000</td>\n",
       "      <td>1.000000</td>\n",
       "      <td>0.000000</td>\n",
       "      <td>1.000000</td>\n",
       "      <td>0.000000</td>\n",
       "    </tr>\n",
       "    <tr>\n",
       "      <th>75%</th>\n",
       "      <td>6.693957e-01</td>\n",
       "      <td>1.561030e-01</td>\n",
       "      <td>1.954115e-01</td>\n",
       "      <td>-3.494900e-01</td>\n",
       "      <td>8.390505e-01</td>\n",
       "      <td>7.227137e-01</td>\n",
       "      <td>8.864358e-01</td>\n",
       "      <td>1.000000</td>\n",
       "      <td>0.000000</td>\n",
       "      <td>0.000000</td>\n",
       "      <td>...</td>\n",
       "      <td>0.000000</td>\n",
       "      <td>0.000000</td>\n",
       "      <td>0.000000</td>\n",
       "      <td>0.000000</td>\n",
       "      <td>1.000000</td>\n",
       "      <td>0.000000</td>\n",
       "      <td>1.000000</td>\n",
       "      <td>0.000000</td>\n",
       "      <td>1.000000</td>\n",
       "      <td>0.000000</td>\n",
       "    </tr>\n",
       "    <tr>\n",
       "      <th>max</th>\n",
       "      <td>5.563242e+00</td>\n",
       "      <td>1.928958e+01</td>\n",
       "      <td>1.954115e-01</td>\n",
       "      <td>1.379475e+01</td>\n",
       "      <td>8.390505e-01</td>\n",
       "      <td>2.058143e+00</td>\n",
       "      <td>2.939071e+00</td>\n",
       "      <td>1.000000</td>\n",
       "      <td>1.000000</td>\n",
       "      <td>1.000000</td>\n",
       "      <td>...</td>\n",
       "      <td>1.000000</td>\n",
       "      <td>1.000000</td>\n",
       "      <td>1.000000</td>\n",
       "      <td>1.000000</td>\n",
       "      <td>1.000000</td>\n",
       "      <td>1.000000</td>\n",
       "      <td>1.000000</td>\n",
       "      <td>1.000000</td>\n",
       "      <td>1.000000</td>\n",
       "      <td>1.000000</td>\n",
       "    </tr>\n",
       "  </tbody>\n",
       "</table>\n",
       "<p>8 rows × 50 columns</p>\n",
       "</div>"
      ],
      "text/plain": [
       "                age      campaign         pdays      previous  emp.var.rate  \\\n",
       "count  4.118800e+04  4.118800e+04  4.118800e+04  4.118800e+04  4.118800e+04   \n",
       "mean  -1.009196e-16 -9.591671e-17 -2.842999e-16  6.624464e-17 -4.218210e-13   \n",
       "std    1.000000e+00  1.000000e+00  1.000000e+00  1.000000e+00  1.000000e+00   \n",
       "min   -2.209338e+00 -5.659151e-01 -5.149381e+00 -3.494900e-01 -2.216407e+00   \n",
       "25%   -7.699710e-01 -5.659151e-01  1.954115e-01 -3.494900e-01 -1.197921e+00   \n",
       "50%   -1.942243e-01 -2.049060e-01  1.954115e-01 -3.494900e-01  6.480844e-01   \n",
       "75%    6.693957e-01  1.561030e-01  1.954115e-01 -3.494900e-01  8.390505e-01   \n",
       "max    5.563242e+00  1.928958e+01  1.954115e-01  1.379475e+01  8.390505e-01   \n",
       "\n",
       "       cons.price.idx  cons.conf.idx    job_admin.  job_blue-collar  \\\n",
       "count    4.118800e+04   4.118800e+04  41188.000000     41188.000000   \n",
       "mean    -8.643368e-11  -2.132652e-12      0.261047         0.224677   \n",
       "std      1.000000e+00   1.000000e+00      0.439211         0.417375   \n",
       "min     -2.374861e+00  -2.224926e+00      0.000000         0.000000   \n",
       "25%     -8.649442e-01  -4.747852e-01      0.000000         0.000000   \n",
       "50%      2.994534e-01  -2.803250e-01      0.000000         0.000000   \n",
       "75%      7.227137e-01   8.864358e-01      1.000000         0.000000   \n",
       "max      2.058143e+00   2.939071e+00      1.000000         1.000000   \n",
       "\n",
       "       job_entrepreneur      ...       day_of_week_thu  day_of_week_tue  \\\n",
       "count      41188.000000      ...          41188.000000     41188.000000   \n",
       "mean           0.035350      ...              0.209357         0.196416   \n",
       "std            0.184665      ...              0.406855         0.397292   \n",
       "min            0.000000      ...              0.000000         0.000000   \n",
       "25%            0.000000      ...              0.000000         0.000000   \n",
       "50%            0.000000      ...              0.000000         0.000000   \n",
       "75%            0.000000      ...              0.000000         0.000000   \n",
       "max            1.000000      ...              1.000000         1.000000   \n",
       "\n",
       "       day_of_week_wed  poutcome_failure  poutcome_nonexistent  \\\n",
       "count     41188.000000      41188.000000          41188.000000   \n",
       "mean          0.197485          0.103234              0.863431   \n",
       "std           0.398106          0.304268              0.343396   \n",
       "min           0.000000          0.000000              0.000000   \n",
       "25%           0.000000          0.000000              1.000000   \n",
       "50%           0.000000          0.000000              1.000000   \n",
       "75%           0.000000          0.000000              1.000000   \n",
       "max           1.000000          1.000000              1.000000   \n",
       "\n",
       "       poutcome_success       housing          loan       contact  \\\n",
       "count      41188.000000  41188.000000  41188.000000  41188.000000   \n",
       "mean           0.033335      0.547878      0.151695      0.634748   \n",
       "std            0.179512      0.497708      0.358729      0.481507   \n",
       "min            0.000000      0.000000      0.000000      0.000000   \n",
       "25%            0.000000      0.000000      0.000000      0.000000   \n",
       "50%            0.000000      1.000000      0.000000      1.000000   \n",
       "75%            0.000000      1.000000      0.000000      1.000000   \n",
       "max            1.000000      1.000000      1.000000      1.000000   \n",
       "\n",
       "                  y  \n",
       "count  41188.000000  \n",
       "mean       0.112654  \n",
       "std        0.316173  \n",
       "min        0.000000  \n",
       "25%        0.000000  \n",
       "50%        0.000000  \n",
       "75%        0.000000  \n",
       "max        1.000000  \n",
       "\n",
       "[8 rows x 50 columns]"
      ]
     },
     "execution_count": 22,
     "metadata": {},
     "output_type": "execute_result"
    }
   ],
   "source": [
    "data_cleaned.describe()"
   ]
  },
  {
   "cell_type": "code",
   "execution_count": 23,
   "metadata": {},
   "outputs": [
    {
     "name": "stdout",
     "output_type": "stream",
     "text": [
      "['float64', 'float64', 'float64', 'float64', 'float64', 'float64', 'float64', 'uint8', 'uint8', 'uint8', 'uint8', 'uint8', 'uint8', 'uint8', 'uint8', 'uint8', 'uint8', 'uint8', 'uint8', 'uint8', 'uint8', 'uint8', 'uint8', 'uint8', 'uint8', 'uint8', 'uint8', 'uint8', 'uint8', 'uint8', 'uint8', 'uint8', 'uint8', 'uint8', 'uint8', 'uint8', 'uint8', 'uint8', 'uint8', 'uint8', 'uint8', 'uint8', 'uint8', 'uint8', 'uint8', 'uint8', 'int64', 'int64', 'int64', 'int64']\n"
     ]
    }
   ],
   "source": [
    "print([data_cleaned[c].dtype.name for c in data_cleaned.columns])"
   ]
  },
  {
   "cell_type": "code",
   "execution_count": 24,
   "metadata": {},
   "outputs": [
    {
     "data": {
      "text/plain": [
       "['age',\n",
       " 'campaign',\n",
       " 'pdays',\n",
       " 'previous',\n",
       " 'emp.var.rate',\n",
       " 'cons.price.idx',\n",
       " 'cons.conf.idx']"
      ]
     },
     "execution_count": 24,
     "metadata": {},
     "output_type": "execute_result"
    }
   ],
   "source": [
    "numerical_columns"
   ]
  },
  {
   "cell_type": "markdown",
   "metadata": {},
   "source": [
    "Попробуем исправить несбалансированность классов с помощью дублирования данных с классом `y` с небольшим шумом.\n",
    "Так же выделим специальную тестовыю выборку из данных, которых точно не будет в тестовой."
   ]
  },
  {
   "cell_type": "code",
   "execution_count": 25,
   "metadata": {},
   "outputs": [
    {
     "name": "stdout",
     "output_type": "stream",
     "text": [
      "(3248, 14) (36548, 14)\n",
      "4640\n",
      "36548\n"
     ]
    }
   ],
   "source": [
    "drops = ['month', 'day_of', 'education', 'job', 'marital']\n",
    "drop_columns = [a for a in data_cleaned.columns if any(d in a for d in drops)]\n",
    "data_k = data_cleaned.drop(drop_columns, axis=1)\n",
    "\n",
    "y_data = data_k[data_k['y'] == 1].sample(frac=1.0)\n",
    "n_data = data_k[data_k['y'] == 0]\n",
    "\n",
    "secret_test_size = int(0.3 * y_data.shape[0])\n",
    "secret_test = y_data.iloc[:secret_test_size]\n",
    "y_data = y_data.iloc[secret_test_size:]\n",
    "\n",
    "print(y_data.shape, n_data.shape)\n",
    "n_len, y_len = n_data.shape[0], y_data.shape[0]\n",
    "\n",
    "np.random.seed(42)\n",
    "index = np.random.choice(y_len, size = n_len, replace=True)\n",
    "\n",
    "l_cov = len(numerical_columns)\n",
    "cov_matrix = np.eye(l_cov) * 0.01\n",
    "mean_t = np.zeros((l_cov,))\n",
    "noise = np.random.multivariate_normal(mean_t, cov_matrix, n_len)\n",
    "\n",
    "l_data = pd.DataFrame(y_data.iloc[index])\n",
    "l_data.loc[:, numerical_columns] = l_data.loc[:, numerical_columns] + noise\n",
    "l_data['y'] = 1\n",
    "\n",
    "data_enchanced = n_data.append(l_data)\n",
    "\n",
    "d_n = data_enchanced.loc[:, numerical_columns]\n",
    "data_enchanced.loc[:, numerical_columns] = d_n\n",
    "\n",
    "print(data_cleaned['y'].sum())\n",
    "print(data_enchanced['y'].sum())"
   ]
  },
  {
   "cell_type": "markdown",
   "metadata": {},
   "source": [
    "## Helper functions"
   ]
  },
  {
   "cell_type": "code",
   "execution_count": 26,
   "metadata": {},
   "outputs": [
    {
     "name": "stdout",
     "output_type": "stream",
     "text": [
      "Train|Test split =  28831 12357\n",
      "Train|Test split =  51167 21929\n"
     ]
    },
    {
     "data": {
      "text/plain": [
       "Index(['age', 'campaign', 'pdays', 'previous', 'emp.var.rate',\n",
       "       'cons.price.idx', 'cons.conf.idx', 'job_admin.', 'job_blue-collar',\n",
       "       'job_entrepreneur', 'job_housemaid', 'job_management', 'job_retired',\n",
       "       'job_self-employed', 'job_services', 'job_student', 'job_technician',\n",
       "       'job_unemployed', 'marital_divorced', 'marital_married',\n",
       "       'marital_single', 'education_basic.4y', 'education_basic.6y',\n",
       "       'education_basic.9y', 'education_high.school', 'education_illiterate',\n",
       "       'education_professional.course', 'education_university.degree',\n",
       "       'month_apr', 'month_aug', 'month_dec', 'month_jul', 'month_jun',\n",
       "       'month_mar', 'month_may', 'month_nov', 'month_oct', 'month_sep',\n",
       "       'day_of_week_fri', 'day_of_week_mon', 'day_of_week_thu',\n",
       "       'day_of_week_tue', 'day_of_week_wed', 'poutcome_failure',\n",
       "       'poutcome_nonexistent', 'poutcome_success', 'housing', 'loan',\n",
       "       'contact'],\n",
       "      dtype='object')"
      ]
     },
     "execution_count": 26,
     "metadata": {},
     "output_type": "execute_result"
    }
   ],
   "source": [
    "from sklearn.model_selection import train_test_split\n",
    "\n",
    "def split(data, test_size = 0.3, random_state = 42):\n",
    "    X = data.drop(('y'), axis = 1) # выбрасываем столбец 'y'\n",
    "    y = data['y']\n",
    "    \n",
    "    ans = train_test_split(X, y, test_size=test_size, random_state=random_state)\n",
    "    print(\"Train|Test split = \", ans[0].shape[0], ans[1].shape[0])\n",
    "    return ans\n",
    "\n",
    "def work(data_splitted, method, n_jobs=-1, **kwargs):\n",
    "    X_train, X_test, y_train, y_test = data_splitted\n",
    "    try:\n",
    "        method_obj = method(n_jobs=n_jobs, **kwargs)\n",
    "    except:\n",
    "        method_obj = method(**kwargs) #  если метод не имеет параметра n_jobs\n",
    "    method_name = str(method_obj).split('(')[0]\n",
    "\n",
    "    method_obj.fit(X_train, y_train)\n",
    "    \n",
    "    y_train_predict = method_obj.predict(X_train)\n",
    "    y_test_predict = method_obj.predict(X_test)\n",
    "\n",
    "    err_train = np.mean(y_train != y_train_predict)\n",
    "    err_test  = np.mean(y_test  != y_test_predict)\n",
    "\n",
    "    print(method_name, \"result error is\", err_train, err_test)\n",
    "    \n",
    "    return method_obj, (y_train_predict, y_test_predict)\n",
    "\n",
    "data_s = split(data_cleaned)\n",
    "data_r = split(data_enchanced)\n",
    "X_train, X_test, y_train, y_test = data_s\n",
    "X1_train, X1_test, y1_train, y1_test = data_r\n",
    "\n",
    "feature_names = X_train.columns\n",
    "feature_names"
   ]
  },
  {
   "cell_type": "code",
   "execution_count": 27,
   "metadata": {},
   "outputs": [
    {
     "data": {
      "text/plain": [
       "Index(['age', 'campaign', 'pdays', 'previous', 'emp.var.rate',\n",
       "       'cons.price.idx', 'cons.conf.idx', 'poutcome_failure',\n",
       "       'poutcome_nonexistent', 'poutcome_success', 'housing', 'loan',\n",
       "       'contact'],\n",
       "      dtype='object')"
      ]
     },
     "execution_count": 27,
     "metadata": {},
     "output_type": "execute_result"
    }
   ],
   "source": [
    "X1_train.columns"
   ]
  },
  {
   "cell_type": "code",
   "execution_count": 28,
   "metadata": {},
   "outputs": [
    {
     "data": {
      "text/plain": [
       "(0.5011042273340239, 0.49742350312371747, 1.0)"
      ]
     },
     "execution_count": 28,
     "metadata": {},
     "output_type": "execute_result"
    }
   ],
   "source": [
    "y1_train.mean(), y1_test.mean(), secret_test['y'].mean()"
   ]
  },
  {
   "cell_type": "code",
   "execution_count": 105,
   "metadata": {},
   "outputs": [
    {
     "name": "stdout",
     "output_type": "stream",
     "text": [
      "Done alpha 1.0000e-08 time is   6 errors 0.09979 0.1019\n",
      "Done alpha 1.5849e-07 time is   5 errors 0.09979 0.1019\n",
      "Done alpha 2.5119e-06 time is   5 errors 0.09979 0.1019\n",
      "Done alpha 3.9811e-05 time is   5 errors 0.09989 0.102\n",
      "Done alpha 6.3096e-04 time is   5 errors 0.09955 0.1018\n",
      "Done alpha 1.0000e-02 time is   6 errors 0.1001 0.1006\n"
     ]
    }
   ],
   "source": [
    "import time\n",
    "from sklearn.neural_network import MLPClassifier\n",
    "alpha_arr = np.logspace(-8, -2, 6)\n",
    "test_err_alpha = []\n",
    "train_err_alpha = []\n",
    "best_model_plain = None\n",
    "best_err = 100\n",
    "best_alpha = None\n",
    "X1_train, X1_test, y1_train, y1_test = data_s\n",
    "for alpha in alpha_arr:\n",
    "    start = time.time()\n",
    "    mlp_model = MLPClassifier(alpha = alpha, hidden_layer_sizes = (100,10), \n",
    "                              solver = 'adam', activation = 'logistic', random_state = 42)\n",
    "    mlp_model.fit(X1_train, y1_train) #logistic\n",
    "\n",
    "    y_train_pred = mlp_model.predict(X1_train)\n",
    "    y_test_pred = mlp_model.predict(X1_test)\n",
    "    err_train = np.mean(y1_train != y_train_pred)\n",
    "    err_test = np.mean(y1_test != y_test_pred)\n",
    "    train_err_alpha.append(err_train)\n",
    "    test_err_alpha.append(err_test)\n",
    "    \n",
    "    if err_test < best_err:\n",
    "        best_alpha = alpha\n",
    "        best_err = err_test\n",
    "        best_model_plain = mlp_model\n",
    "    print(\"Done alpha {:.4e} time is {:3} errors {:.4} {:.4}\".format(alpha, round(time.time() - start), err_train, err_test))"
   ]
  },
  {
   "cell_type": "code",
   "execution_count": 106,
   "metadata": {},
   "outputs": [
    {
     "name": "stdout",
     "output_type": "stream",
     "text": [
      "Best alpha 0.01 with error 0.10059075827466213\n"
     ]
    }
   ],
   "source": [
    "print(f\"Best alpha {best_alpha} with error {best_err}\")"
   ]
  },
  {
   "cell_type": "code",
   "execution_count": 108,
   "metadata": {},
   "outputs": [
    {
     "name": "stdout",
     "output_type": "stream",
     "text": [
      "Train/test error 0.10006590128680934 0.10059075827466213\n",
      "Train confuse\n",
      " [[25137   443]\n",
      " [ 2442   809]]\n",
      "Test confuse\n",
      " [[10778   190]\n",
      " [ 1053   336]]\n"
     ]
    }
   ],
   "source": [
    "from sklearn.metrics import confusion_matrix\n",
    "\n",
    "y_train_pred = best_model_plain.predict(X1_train)\n",
    "y_test_pred = best_model_plain.predict(X1_test)\n",
    "err_train = np.mean(y1_train != y_train_pred)\n",
    "err_test = np.mean(y1_test != y_test_pred)\n",
    "print(\"Train/test error\", err_train, err_test)\n",
    "\n",
    "print(\"Train confuse\\n\", confusion_matrix(y1_train, y_train_pred))\n",
    "print(\"Test confuse\\n\", confusion_matrix(y1_test, y_test_pred))"
   ]
  },
  {
   "cell_type": "markdown",
   "metadata": {},
   "source": [
    "Как мы видим несмотря на низкую ошибку, модель корректно распознаёт класс `y` в одной четверти случаев (809 из 3248) как в тестовой, так и в тренировочной выборке."
   ]
  },
  {
   "cell_type": "code",
   "execution_count": 109,
   "metadata": {},
   "outputs": [
    {
     "name": "stderr",
     "output_type": "stream",
     "text": [
      "c:\\users\\bmz\\appdata\\local\\programs\\python\\python36\\lib\\site-packages\\sklearn\\neural_network\\multilayer_perceptron.py:564: ConvergenceWarning: Stochastic Optimizer: Maximum iterations (200) reached and the optimization hasn't converged yet.\n",
      "  % self.max_iter, ConvergenceWarning)\n"
     ]
    },
    {
     "name": "stdout",
     "output_type": "stream",
     "text": [
      "Done alpha 1.0000e-08 time is  52 errors 0.08668 0.0887\n",
      "Done alpha 1.5849e-07 time is  50 errors 0.08664 0.08865\n",
      "Done alpha 2.5119e-06 time is  53 errors 0.08574 0.08637\n",
      "Done alpha 3.9811e-05 time is  55 errors 0.08631 0.08756\n",
      "Done alpha 6.3096e-04 time is  56 errors 0.08846 0.08924\n",
      "Done alpha 1.0000e-02 time is  26 errors 0.256 0.2568\n"
     ]
    }
   ],
   "source": [
    "import time\n",
    "from sklearn.neural_network import MLPClassifier\n",
    "alpha_arr = np.logspace(-8, -2, 6)\n",
    "test_err_alpha = []\n",
    "train_err_alpha = []\n",
    "best_model = None\n",
    "best_err = 100\n",
    "best_alpha = None\n",
    "X1_train, X1_test, y1_train, y1_test = data_r\n",
    "for alpha in alpha_arr:\n",
    "    start = time.time()\n",
    "    mlp_model = MLPClassifier(alpha = alpha, hidden_layer_sizes = (100,10), \n",
    "                              solver = 'adam', activation = 'logistic', random_state = 42)\n",
    "    mlp_model.fit(X1_train, y1_train) #logistic\n",
    "\n",
    "    y_train_pred = mlp_model.predict(X1_train)\n",
    "    y_test_pred = mlp_model.predict(X1_test)\n",
    "    err_train = np.mean(y1_train != y_train_pred)\n",
    "    err_test = np.mean(y1_test != y_test_pred)\n",
    "    train_err_alpha.append(err_train)\n",
    "    test_err_alpha.append(err_test)\n",
    "    \n",
    "    if err_test < best_err:\n",
    "        best_alpha = alpha\n",
    "        best_err = err_test\n",
    "        best_model = mlp_model\n",
    "    print(\"Done alpha {:.4e} time is {:3} errors {:.4} {:.4}\".format(alpha, round(time.time() - start), err_train, err_test))"
   ]
  },
  {
   "cell_type": "code",
   "execution_count": 110,
   "metadata": {},
   "outputs": [
    {
     "name": "stdout",
     "output_type": "stream",
     "text": [
      "Best alpha 2.5118864315095823e-06 with error 0.08636964749874596\n"
     ]
    }
   ],
   "source": [
    "print(f\"Best alpha {best_alpha} with error {best_err}\")"
   ]
  },
  {
   "cell_type": "code",
   "execution_count": 111,
   "metadata": {},
   "outputs": [
    {
     "data": {
      "text/plain": [
       "0.5272988505747126"
      ]
     },
     "execution_count": 111,
     "metadata": {},
     "output_type": "execute_result"
    }
   ],
   "source": [
    "best_model.score(secret_test.drop(('y'), axis = 1), secret_test['y'])"
   ]
  },
  {
   "cell_type": "code",
   "execution_count": 114,
   "metadata": {},
   "outputs": [
    {
     "name": "stdout",
     "output_type": "stream",
     "text": [
      "Train/test error 0.08573885512146501 0.08636964749874596\n",
      "Train confuse\n",
      " [[23527  2000]\n",
      " [ 2387 23253]]\n",
      "Test confuse\n",
      " [[10110   911]\n",
      " [  983  9925]]\n"
     ]
    }
   ],
   "source": [
    "y_train_pred = best_model.predict(X1_train)\n",
    "y_test_pred = best_model.predict(X1_test)\n",
    "err_train = np.mean(y1_train != y_train_pred)\n",
    "err_test = np.mean(y1_test != y_test_pred)\n",
    "print(\"Train/test error\", err_train, err_test)\n",
    "\n",
    "print(\"Train confuse\\n\", confusion_matrix(y1_train, y_train_pred))\n",
    "print(\"Test confuse\\n\", confusion_matrix(y1_test, y_test_pred))"
   ]
  },
  {
   "cell_type": "markdown",
   "metadata": {},
   "source": [
    "Как мы видим пропорция верно угаданных значений класса `y` возросла.\n",
    "10 из 11 в тренировочной и тестовой, и больше половины в секретом тесте."
   ]
  },
  {
   "cell_type": "code",
   "execution_count": 32,
   "metadata": {},
   "outputs": [
    {
     "data": {
      "image/png": "[encoded data removed]",
      "text/plain": [
       "<Figure size 432x288 with 1 Axes>"
      ]
     },
     "metadata": {
      "needs_background": "light"
     },
     "output_type": "display_data"
    }
   ],
   "source": [
    "plt.semilogx(alpha_arr, train_err_alpha, 'b-o', label = 'train')\n",
    "plt.semilogx(alpha_arr, test_err_alpha, 'r-o', label = 'test')\n",
    "plt.xlim([np.max(alpha_arr), np.min(alpha_arr)])\n",
    "plt.title('Error vs. alpha')\n",
    "plt.xlabel('alpha')\n",
    "plt.ylabel('error')\n",
    "plt.legend()\n",
    "pass"
   ]
  },
  {
   "cell_type": "code",
   "execution_count": 94,
   "metadata": {},
   "outputs": [
    {
     "name": "stdout",
     "output_type": "stream",
     "text": [
      "Done neurons (10,)      time is   8 errors 0.2631 0.2646\n",
      "Done neurons (20,)      time is  10 errors 0.261 0.2639\n",
      "Done neurons (50,)      time is  20 errors 0.2572 0.2616\n",
      "Done neurons (100,)     time is   2 errors 0.2764 0.2771\n",
      "Done neurons (200,)     time is   4 errors 0.2815 0.281\n",
      "Done neurons (10, 10)   time is   5 errors 0.2636 0.265\n",
      "Done neurons (20, 10)   time is  13 errors 0.2601 0.2625\n"
     ]
    },
    {
     "name": "stderr",
     "output_type": "stream",
     "text": [
      "c:\\users\\bmz\\appdata\\local\\programs\\python\\python36\\lib\\site-packages\\sklearn\\neural_network\\multilayer_perceptron.py:564: ConvergenceWarning: Stochastic Optimizer: Maximum iterations (200) reached and the optimization hasn't converged yet.\n",
      "  % self.max_iter, ConvergenceWarning)\n"
     ]
    },
    {
     "name": "stdout",
     "output_type": "stream",
     "text": [
      "Done neurons (100, 10)  time is  57 errors 0.08574 0.08637\n",
      "Done neurons (10, 10, 5) time is  26 errors 0.08294 0.0881\n",
      "Done neurons (20, 10, 5) time is  12 errors 0.2606 0.2623\n",
      "Done neurons (100, 10, 10) time is  57 errors 0.06831 0.07324\n"
     ]
    }
   ],
   "source": [
    "import time\n",
    "from sklearn.neural_network import MLPClassifier\n",
    "alpha_arr = np.logspace(-8, -2, 7)\n",
    "neurons_arr = [\n",
    "    (10,), (20,), (50,), (100,), (200,),\n",
    "    (10, 10), (20, 10), (100, 10),\n",
    "    (10, 10, 5), (20, 10, 5), (100, 10, 10)\n",
    "]\n",
    "test_err_neurons = []\n",
    "train_err_neurons = []\n",
    "best_err2 = 100\n",
    "best_neurons = None\n",
    "best_model2 = None\n",
    "for neurons in neurons_arr:\n",
    "    start = time.time()\n",
    "    mlp_model = MLPClassifier(alpha = best_alpha, hidden_layer_sizes = neurons, \n",
    "                              solver = 'adam', activation = 'logistic', random_state = 42)\n",
    "    mlp_model.fit(X1_train, y1_train)\n",
    "\n",
    "    y_train_pred = mlp_model.predict(X1_train)\n",
    "    y_test_pred = mlp_model.predict(X1_test)\n",
    "    \n",
    "    err_train = np.mean(y1_train != y_train_pred)\n",
    "    err_test = np.mean(y1_test != y_test_pred)\n",
    "    train_err_neurons.append(err_train)\n",
    "    test_err_neurons.append(err_test)\n",
    "    \n",
    "    if err_test < best_err2:\n",
    "        best_neurons = neurons\n",
    "        best_err2 = err_test\n",
    "        best_model2 = mlp_model\n",
    "    print(\"Done neurons {:<10} time is {:3} errors {:.4} {:.4}\".format(str(neurons), round(time.time() - start), err_train, err_test))"
   ]
  },
  {
   "cell_type": "code",
   "execution_count": 95,
   "metadata": {},
   "outputs": [
    {
     "name": "stdout",
     "output_type": "stream",
     "text": [
      "Best neurons (100, 10, 10) with error 0.07323635368689863\n"
     ]
    }
   ],
   "source": [
    "print(f\"Best neurons {best_neurons} with error {best_err2}\")"
   ]
  },
  {
   "cell_type": "code",
   "execution_count": 96,
   "metadata": {},
   "outputs": [
    {
     "data": {
      "text/plain": [
       "0.5316091954022989"
      ]
     },
     "execution_count": 96,
     "metadata": {},
     "output_type": "execute_result"
    }
   ],
   "source": [
    "best_model2.score(secret_test.drop(('y'), axis = 1), secret_test['y'])"
   ]
  },
  {
   "cell_type": "code",
   "execution_count": 115,
   "metadata": {},
   "outputs": [
    {
     "name": "stdout",
     "output_type": "stream",
     "text": [
      "Train/test error 0.06830574393652158 0.07323635368689863\n",
      "Train confuse\n",
      " [[23498  2029]\n",
      " [ 1466 24174]]\n",
      "Test confuse\n",
      " [[10076   945]\n",
      " [  661 10247]]\n"
     ]
    }
   ],
   "source": [
    "y_train_pred = best_model2.predict(X1_train)\n",
    "y_test_pred = best_model2.predict(X1_test)\n",
    "err_train = np.mean(y1_train != y_train_pred)\n",
    "err_test = np.mean(y1_test != y_test_pred)\n",
    "print(\"Train/test error\", err_train, err_test)\n",
    "\n",
    "print(\"Train confuse\\n\", confusion_matrix(y1_train, y_train_pred))\n",
    "print(\"Test confuse\\n\", confusion_matrix(y1_test, y_test_pred))"
   ]
  },
  {
   "cell_type": "code",
   "execution_count": 118,
   "metadata": {},
   "outputs": [
    {
     "data": {
      "text/plain": [
       "(0.05717628705148206, 0.0605977264393106, 0.09090909090909091)"
      ]
     },
     "execution_count": 118,
     "metadata": {},
     "output_type": "execute_result"
    }
   ],
   "source": [
    "1466 / (1466 + 24174), 661 / (661 + 10247), 1 / 11"
   ]
  },
  {
   "cell_type": "markdown",
   "metadata": {},
   "source": [
    "Как мы видим пропорция верно угаданных значений класса `y` возросла. 19 из 20 в тренировочной и тестовой, и больше половины в секретом тесте."
   ]
  },
  {
   "cell_type": "code",
   "execution_count": 97,
   "metadata": {},
   "outputs": [
    {
     "data": {
      "image/png": "[encoded data removed]",
      "text/plain": [
       "<Figure size 432x288 with 1 Axes>"
      ]
     },
     "metadata": {
      "needs_background": "light"
     },
     "output_type": "display_data"
    }
   ],
   "source": [
    "x_neuron = list(range(len(neurons_arr)))\n",
    "plt.plot(x_neuron, train_err_neurons, 'b-o', label = 'train')\n",
    "plt.plot(x_neuron, test_err_neurons, 'r-o', label = 'test')\n",
    "#plt.xlim([np.max(x_neuron), np.min(x_neuron)])\n",
    "plt.xticks(x_neuron, [str(i) for i in neurons_arr])\n",
    "plt.gcf().autofmt_xdate()\n",
    "plt.title('Error vs. neurons')\n",
    "plt.xlabel('neurons')\n",
    "plt.ylabel('error')\n",
    "plt.legend()\n",
    "pass"
   ]
  },
  {
   "cell_type": "markdown",
   "metadata": {},
   "source": [
    "Попробуем решить все наши проблемы с несбалансированностью классов\n",
    "с помощью разделения данных на множество датасетов в которых совпадают данные из класса `y`, а данные из класса `n` разные (так как их больше).\n",
    "На каждом датасете мы обучим одинаковую модель и усредним оценки вроятностей для получения предсказания."
   ]
  },
  {
   "cell_type": "code",
   "execution_count": 98,
   "metadata": {},
   "outputs": [
    {
     "name": "stdout",
     "output_type": "stream",
     "text": [
      "3248 10\n"
     ]
    }
   ],
   "source": [
    "y_data = data_k[data_k['y'] == 1].sample(frac=1.0)\n",
    "n_data = data_k[data_k['y'] == 0].sample(frac=1.0)\n",
    "\n",
    "y_len = y_data.shape[0]\n",
    "\n",
    "test_frac = 0.3\n",
    "test_len = int(test_frac * y_len)\n",
    "test_data = pd.concat([y_data.iloc[:test_len], n_data.iloc[:test_len]])\n",
    "test_data, test_labels = test_data.drop('y', axis=1), test_data['y']\n",
    "\n",
    "y_data = y_data.iloc[test_len:]\n",
    "n_data = n_data.iloc[test_len:]\n",
    "\n",
    "y_len -= test_len\n",
    "n_len = n_data.shape[0]\n",
    "\n",
    "steps = n_len // y_len\n",
    "datasets = [None] * steps\n",
    "\n",
    "for i in range(steps):\n",
    "    df = pd.concat([y_data,\n",
    "                    n_data.iloc[i*y_len:i*y_len + y_len]])\n",
    "    datasets[i] = df.drop('y', axis=1), df['y']\n",
    "\n",
    "print(y_len, steps)"
   ]
  },
  {
   "cell_type": "code",
   "execution_count": 99,
   "metadata": {},
   "outputs": [],
   "source": [
    "class ensemble:\n",
    "    def __init__(self, models):\n",
    "        self.models = models\n",
    "        self.n = len(models)\n",
    "        \n",
    "    def call_all(self, f, args):\n",
    "        return [getattr(m, f)(*arg)\\\n",
    "                for m, arg in zip(self.models, args)]\n",
    "\n",
    "    def predict(self,x):\n",
    "        return np.array(self.call_all('predict_proba', [x]*self.n))\\\n",
    "                 .mean(axis = 0).argmax(axis = 1)\n"
   ]
  },
  {
   "cell_type": "code",
   "execution_count": 100,
   "metadata": {},
   "outputs": [],
   "source": [
    "models = []\n",
    "for i in range(steps):\n",
    "    model = MLPClassifier(alpha = best_alpha,\n",
    "                          hidden_layer_sizes = best_neurons, \n",
    "                          solver = 'adam',\n",
    "                          activation = 'logistic',\n",
    "                          random_state = 42)\n",
    "    models.append(model)\n",
    "model_ens = ensemble(models)"
   ]
  },
  {
   "cell_type": "code",
   "execution_count": 101,
   "metadata": {},
   "outputs": [],
   "source": [
    "model_ens.call_all('fit', datasets);"
   ]
  },
  {
   "cell_type": "code",
   "execution_count": 103,
   "metadata": {},
   "outputs": [],
   "source": [
    "prediction = model_ens.predict([test_data])"
   ]
  },
  {
   "cell_type": "code",
   "execution_count": 104,
   "metadata": {},
   "outputs": [
    {
     "data": {
      "text/plain": [
       "0.7094109195402298"
      ]
     },
     "execution_count": 104,
     "metadata": {},
     "output_type": "execute_result"
    }
   ],
   "source": [
    "np.mean(test_labels == prediction)"
   ]
  },
  {
   "cell_type": "code",
   "execution_count": 122,
   "metadata": {},
   "outputs": [
    {
     "name": "stdout",
     "output_type": "stream",
     "text": [
      "Train error 0.26758004926108375\n",
      "Train confuse\n",
      " [[26158  6322]\n",
      " [11060 21420]]\n",
      "Test confuse\n",
      " [[1116  276]\n",
      " [ 533  859]]\n"
     ]
    }
   ],
   "source": [
    "all_train_data = pd.concat([d[0] for d in datasets])\n",
    "all_train_labels = pd.concat([d[1] for d in datasets])\n",
    "\n",
    "y_train_pred = model_ens.predict([all_train_data])\n",
    "y_test_pred = prediction\n",
    "err_train = np.mean(all_train_labels != y_train_pred)\n",
    "print(\"Train error\", err_train)\n",
    "\n",
    "print(\"Train confuse\\n\", confusion_matrix(all_train_labels, y_train_pred))\n",
    "print(\"Test confuse\\n\", confusion_matrix(test_labels, y_test_pred))"
   ]
  },
  {
   "cell_type": "code",
   "execution_count": 125,
   "metadata": {},
   "outputs": [
    {
     "data": {
      "text/plain": [
       "0.6170977011494253"
      ]
     },
     "execution_count": 125,
     "metadata": {},
     "output_type": "execute_result"
    }
   ],
   "source": [
    "859 / (533 + 859)"
   ]
  },
  {
   "cell_type": "markdown",
   "metadata": {},
   "source": [
    "У ансамбля мы видим другую картину. \n",
    "Теперь ошибка на тренировочной выборке почти такая же как и на тестовой (0.26 vs 0.29 значит недообучение).\n",
    "Кстати такую же ошибку показывали наши наихудшие модели.\n",
    "Зато ошибка на тренировочной ошибке лучше всех. Хотя и не намного так как если считать ошибку только на классе `y` выходит всё ещё чуть лучше рандома."
   ]
  },
  {
   "cell_type": "markdown",
   "metadata": {},
   "source": [
    "# $k$NN"
   ]
  },
  {
   "cell_type": "code",
   "execution_count": 51,
   "metadata": {},
   "outputs": [
    {
     "name": "stdout",
     "output_type": "stream",
     "text": [
      "KNeighborsClassifier result error is 0.09514064722000624 0.10423241887189447\n"
     ]
    }
   ],
   "source": [
    "from sklearn.neighbors import KNeighborsClassifier\n",
    "ans = work(data_s, KNeighborsClassifier, n_neighbors=10)"
   ]
  },
  {
   "cell_type": "code",
   "execution_count": 52,
   "metadata": {},
   "outputs": [
    {
     "name": "stdout",
     "output_type": "stream",
     "text": [
      "KNeighborsClassifier result error is 0.12158226982234643 0.1671302840986821\n"
     ]
    }
   ],
   "source": [
    "from sklearn.neighbors import KNeighborsClassifier\n",
    "ans = work(data_r, KNeighborsClassifier, n_neighbors=5)"
   ]
  },
  {
   "cell_type": "code",
   "execution_count": 54,
   "metadata": {},
   "outputs": [
    {
     "data": {
      "text/plain": [
       "0.5301724137931034"
      ]
     },
     "execution_count": 54,
     "metadata": {},
     "output_type": "execute_result"
    }
   ],
   "source": [
    "ans[0].score(secret_test.drop(('y'), axis = 1), secret_test['y'])"
   ]
  },
  {
   "cell_type": "markdown",
   "metadata": {},
   "source": [
    "### Подбор параметров"
   ]
  },
  {
   "cell_type": "code",
   "execution_count": null,
   "metadata": {},
   "outputs": [],
   "source": [
    "from sklearn.model_selection import GridSearchCV\n",
    "nnb = [1, 3, 5, 10, 15, 20, 25, 35, 45, 55]\n",
    "knn = KNeighborsClassifier()\n",
    "grid = GridSearchCV(knn, param_grid = {'n_neighbors': nnb}, cv=10, n_jobs=-1)\n",
    "grid.fit(X_train, y_train)\n",
    "\n",
    "best_cv_err = 1 - grid.best_score_\n",
    "best_n_neighbors = grid.best_estimator_.n_neighbors\n",
    "print(best_cv_err, best_n_neighbors)"
   ]
  },
  {
   "cell_type": "code",
   "execution_count": null,
   "metadata": {},
   "outputs": [],
   "source": [
    "ans = work(data_s, KNeighborsClassifier, n_neighbors=best_n_neighbors)"
   ]
  },
  {
   "cell_type": "code",
   "execution_count": null,
   "metadata": {},
   "outputs": [],
   "source": [
    "from sklearn.metrics import confusion_matrix\n",
    "\n",
    "print(confusion_matrix(y_test, ans[1][1]))"
   ]
  },
  {
   "cell_type": "markdown",
   "metadata": {},
   "source": [
    "Как мы видим результат алгоритма слабо отличается от нашей оценки.\n",
    "0.112 против 0.103.\n",
    "Как мы видим из `confusion matrix` большая часть ошибок - ложноотрицательные."
   ]
  },
  {
   "cell_type": "markdown",
   "metadata": {},
   "source": [
    "# SVC"
   ]
  },
  {
   "cell_type": "code",
   "execution_count": null,
   "metadata": {},
   "outputs": [],
   "source": [
    "from sklearn.svm import SVC\n",
    "ans = work(data_s, SVC)"
   ]
  },
  {
   "cell_type": "markdown",
   "metadata": {},
   "source": [
    "### Подбор параметров"
   ]
  },
  {
   "cell_type": "code",
   "execution_count": null,
   "metadata": {},
   "outputs": [],
   "source": [
    "Cs = 10.**np.arange(-5, 5)\n",
    "gamma_array = 10.**np.arange(-5, 5)\n",
    "svc = SVC()\n",
    "#grid = GridSearchCV(svc, param_grid = {'C': Cs, 'gamma': gamma_array}, n_jobs=-1)\n",
    "grid = GridSearchCV(svc, param_grid = {'C': Cs}, n_jobs=-1)\n",
    "grid.fit(X_train, y_train)\n",
    "\n",
    "best_cv_err = 1 - grid.best_score_\n",
    "best_C = grid.best_estimator_.C\n",
    "print(best_cv_err, best_C)"
   ]
  },
  {
   "cell_type": "code",
   "execution_count": null,
   "metadata": {},
   "outputs": [],
   "source": [
    "ans = work(data_s, SVC, C = best_C)"
   ]
  },
  {
   "cell_type": "markdown",
   "metadata": {},
   "source": [
    "# Random Forest"
   ]
  },
  {
   "cell_type": "code",
   "execution_count": null,
   "metadata": {},
   "outputs": [],
   "source": [
    "from sklearn import ensemble\n",
    "ans = work(data_s, ensemble.RandomForestClassifier, n_estimators = 1000)"
   ]
  },
  {
   "cell_type": "code",
   "execution_count": null,
   "metadata": {},
   "outputs": [],
   "source": [
    "from sklearn import ensemble\n",
    "ans = work(data_r, ensemble.RandomForestClassifier, n_estimators = 1000)"
   ]
  },
  {
   "cell_type": "code",
   "execution_count": null,
   "metadata": {},
   "outputs": [],
   "source": [
    "print(secret_test_size, (1 - 0.00013680514387340965) ** secret_test_size)\n",
    "ans[0].score(secret_test.drop(('y'), axis = 1), secret_test['y'])"
   ]
  },
  {
   "cell_type": "markdown",
   "metadata": {},
   "source": [
    "### Значимость признаков"
   ]
  },
  {
   "cell_type": "code",
   "execution_count": null,
   "metadata": {
    "scrolled": true
   },
   "outputs": [],
   "source": [
    "rf = ans[0]\n",
    "importances = rf.feature_importances_\n",
    "indices = np.argsort(importances)[::-1]\n",
    "\n",
    "print(\"Feature ranking:\")\n",
    "\n",
    "for f in range(len(indices)):\n",
    "    print(\"%2d. feature '%5s' (%f)\" % (f + 1, feature_names[indices[f]], importances[indices[f]]))   "
   ]
  },
  {
   "cell_type": "code",
   "execution_count": null,
   "metadata": {},
   "outputs": [],
   "source": [
    "d_first = 20\n",
    "plt.title(\"Feature importances\")\n",
    "plt.bar(range(d_first), importances[indices[:d_first]], align = 'center', color = 'r')\n",
    "plt.xticks(range(d_first), feature_names[indices[:d_first]], rotation = 90)\n",
    "plt.xlim([-1, d_first])"
   ]
  },
  {
   "cell_type": "markdown",
   "metadata": {},
   "source": [
    "# Extremely Randomized Trees"
   ]
  },
  {
   "cell_type": "code",
   "execution_count": null,
   "metadata": {},
   "outputs": [],
   "source": [
    "ans = work(data_s, ensemble.ExtraTreesClassifier, n_estimators = 100)"
   ]
  },
  {
   "cell_type": "markdown",
   "metadata": {},
   "source": [
    "# AdaBoost"
   ]
  },
  {
   "cell_type": "code",
   "execution_count": null,
   "metadata": {},
   "outputs": [],
   "source": [
    "ans = work(data_s, ensemble.AdaBoostClassifier, n_estimators = 100)"
   ]
  },
  {
   "cell_type": "markdown",
   "metadata": {},
   "source": [
    "# GBT"
   ]
  },
  {
   "cell_type": "code",
   "execution_count": null,
   "metadata": {},
   "outputs": [],
   "source": [
    "ans = work(data_s, ensemble.GradientBoostingClassifier, n_estimators = 100)"
   ]
  },
  {
   "cell_type": "markdown",
   "metadata": {},
   "source": [
    "## Дополнительный тест\n",
    "\n",
    "Если мы не будем убирать `duration` то результаты немного улучшаться\n",
    "\n",
    "Если же не делать других вещей, то они ухудшаться совсем немного."
   ]
  },
  {
   "cell_type": "code",
   "execution_count": null,
   "metadata": {},
   "outputs": [],
   "source": [
    "def generate(conditions):\n",
    "    enable_duration, clean_correlation, clean_unknown, clean_dates = conditions\n",
    "    data_clear = pd.read_csv('bank-additional-full.csv', sep = ';', engine = 'python')\n",
    "\n",
    "    if not enable_duration:\n",
    "        data_clear = data_clear.drop(['duration'], axis = 1)\n",
    "        \n",
    "    if clean_correlation:\n",
    "        data_clear = data_clear.drop(['euribor3m', 'nr.employed'], axis = 1)\n",
    "        \n",
    "    if clean_unknown:\n",
    "        for name in ['job', 'education', 'marital', 'housing', 'loan']:\n",
    "            data_clear.loc[data_clear[name] == 'unknown', name] = data_clear[name].describe().top\n",
    "        data_clear = data_clear.drop(['default'], axis=1)\n",
    "        \n",
    "    if clean_dates:\n",
    "        drops = ['month', 'day_of']\n",
    "        drop_columns = [a for a in data_clear.columns if ('month' in a or 'day_of' in a)]\n",
    "        data_clear = data_clear.drop(drop_columns, axis=1)\n",
    "\n",
    "    categorical_columns = [c for c in data_clear.columns if data_clear[c].dtype.name == 'object']\n",
    "    numerical_columns   = [c for c in data_clear.columns if data_clear[c].dtype.name != 'object']\n",
    "\n",
    "    data_describe = data_clear.describe(include = [object])\n",
    "    binary_columns    = [c for c in categorical_columns if data_describe[c]['unique'] == 2]\n",
    "    nonbinary_columns = [c for c in categorical_columns if data_describe[c]['unique'] > 2]\n",
    "\n",
    "    for name in binary_columns:\n",
    "        A, B = data_clear[name].unique()\n",
    "        data_clear.at[data_clear[name] == A, name] = 0\n",
    "        data_clear.at[data_clear[name] == B, name] = 1\n",
    "\n",
    "    data_nonbinary = pd.get_dummies(data_clear[nonbinary_columns])\n",
    "\n",
    "    data_numerical = data_clear[numerical_columns]\n",
    "    data_numerical = (data_numerical - data_numerical.mean(axis = 0))/data_numerical.std(axis = 0)\n",
    "\n",
    "    data_cleaned = pd.concat((data_numerical, data_nonbinary, data_clear[binary_columns]), axis = 1)\n",
    "    \n",
    "    return split(data_cleaned)"
   ]
  },
  {
   "cell_type": "code",
   "execution_count": null,
   "metadata": {},
   "outputs": [],
   "source": [
    "data_s2 = generate([True, False, False, False])"
   ]
  },
  {
   "cell_type": "code",
   "execution_count": null,
   "metadata": {},
   "outputs": [],
   "source": [
    "ans = work(data_s2, SVC, C = best_C)"
   ]
  },
  {
   "cell_type": "markdown",
   "metadata": {},
   "source": [
    "### Попробуем все возможные комбинации!"
   ]
  },
  {
   "cell_type": "code",
   "execution_count": null,
   "metadata": {},
   "outputs": [],
   "source": [
    "data_pack = []\n",
    "for i in range(16):\n",
    "    k = np.array([a == '1' for a in bin(i)[2:].zfill(4)])\n",
    "    data_pack.append((generate(k), k))"
   ]
  },
  {
   "cell_type": "code",
   "execution_count": null,
   "metadata": {},
   "outputs": [],
   "source": [
    "for data, k in data_pack:\n",
    "    print(\"K = \", k)\n",
    "    ans = work(data, KNeighborsClassifier, n_neighbors=10)\n",
    "    ans = work(data, ensemble.AdaBoostClassifier, n_estimators = 100)\n",
    "    ans = work(data, SVC, C = best_C)\n",
    "    print(\"\\n\")\n",
    "    "
   ]
  },
  {
   "cell_type": "markdown",
   "metadata": {},
   "source": [
    "Вот мы увидели что у нас не получилось значительно улучшить результат"
   ]
  },
  {
   "cell_type": "code",
   "execution_count": null,
   "metadata": {},
   "outputs": [],
   "source": []
  }
 ],
 "metadata": {
  "kernelspec": {
   "display_name": "Python 3",
   "language": "python",
   "name": "python3"
  },
  "language_info": {
   "codemirror_mode": {
    "name": "ipython",
    "version": 3
   },
   "file_extension": ".py",
   "mimetype": "text/x-python",
   "name": "python",
   "nbconvert_exporter": "python",
   "pygments_lexer": "ipython3",
   "version": "3.6.3"
  }
 },
 "nbformat": 4,
 "nbformat_minor": 1
}
